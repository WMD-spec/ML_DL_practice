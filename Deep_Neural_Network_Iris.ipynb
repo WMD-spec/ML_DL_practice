{
 "cells": [
  {
   "cell_type": "code",
   "execution_count": 13,
   "id": "17e09825",
   "metadata": {},
   "outputs": [],
   "source": [
    "import pandas as pd\n",
    "import seaborn as sns\n",
    "iris = sns.load_dataset(\"iris\")"
   ]
  },
  {
   "cell_type": "code",
   "execution_count": 14,
   "id": "a9f8bf14",
   "metadata": {},
   "outputs": [
    {
     "data": {
      "text/html": [
       "<div>\n",
       "<style scoped>\n",
       "    .dataframe tbody tr th:only-of-type {\n",
       "        vertical-align: middle;\n",
       "    }\n",
       "\n",
       "    .dataframe tbody tr th {\n",
       "        vertical-align: top;\n",
       "    }\n",
       "\n",
       "    .dataframe thead th {\n",
       "        text-align: right;\n",
       "    }\n",
       "</style>\n",
       "<table border=\"1\" class=\"dataframe\">\n",
       "  <thead>\n",
       "    <tr style=\"text-align: right;\">\n",
       "      <th></th>\n",
       "      <th>sepal_length</th>\n",
       "      <th>sepal_width</th>\n",
       "      <th>petal_length</th>\n",
       "      <th>petal_width</th>\n",
       "      <th>species</th>\n",
       "    </tr>\n",
       "  </thead>\n",
       "  <tbody>\n",
       "    <tr>\n",
       "      <th>0</th>\n",
       "      <td>5.1</td>\n",
       "      <td>3.5</td>\n",
       "      <td>1.4</td>\n",
       "      <td>0.2</td>\n",
       "      <td>setosa</td>\n",
       "    </tr>\n",
       "    <tr>\n",
       "      <th>1</th>\n",
       "      <td>4.9</td>\n",
       "      <td>3.0</td>\n",
       "      <td>1.4</td>\n",
       "      <td>0.2</td>\n",
       "      <td>setosa</td>\n",
       "    </tr>\n",
       "    <tr>\n",
       "      <th>2</th>\n",
       "      <td>4.7</td>\n",
       "      <td>3.2</td>\n",
       "      <td>1.3</td>\n",
       "      <td>0.2</td>\n",
       "      <td>setosa</td>\n",
       "    </tr>\n",
       "    <tr>\n",
       "      <th>3</th>\n",
       "      <td>4.6</td>\n",
       "      <td>3.1</td>\n",
       "      <td>1.5</td>\n",
       "      <td>0.2</td>\n",
       "      <td>setosa</td>\n",
       "    </tr>\n",
       "    <tr>\n",
       "      <th>4</th>\n",
       "      <td>5.0</td>\n",
       "      <td>3.6</td>\n",
       "      <td>1.4</td>\n",
       "      <td>0.2</td>\n",
       "      <td>setosa</td>\n",
       "    </tr>\n",
       "    <tr>\n",
       "      <th>...</th>\n",
       "      <td>...</td>\n",
       "      <td>...</td>\n",
       "      <td>...</td>\n",
       "      <td>...</td>\n",
       "      <td>...</td>\n",
       "    </tr>\n",
       "    <tr>\n",
       "      <th>145</th>\n",
       "      <td>6.7</td>\n",
       "      <td>3.0</td>\n",
       "      <td>5.2</td>\n",
       "      <td>2.3</td>\n",
       "      <td>virginica</td>\n",
       "    </tr>\n",
       "    <tr>\n",
       "      <th>146</th>\n",
       "      <td>6.3</td>\n",
       "      <td>2.5</td>\n",
       "      <td>5.0</td>\n",
       "      <td>1.9</td>\n",
       "      <td>virginica</td>\n",
       "    </tr>\n",
       "    <tr>\n",
       "      <th>147</th>\n",
       "      <td>6.5</td>\n",
       "      <td>3.0</td>\n",
       "      <td>5.2</td>\n",
       "      <td>2.0</td>\n",
       "      <td>virginica</td>\n",
       "    </tr>\n",
       "    <tr>\n",
       "      <th>148</th>\n",
       "      <td>6.2</td>\n",
       "      <td>3.4</td>\n",
       "      <td>5.4</td>\n",
       "      <td>2.3</td>\n",
       "      <td>virginica</td>\n",
       "    </tr>\n",
       "    <tr>\n",
       "      <th>149</th>\n",
       "      <td>5.9</td>\n",
       "      <td>3.0</td>\n",
       "      <td>5.1</td>\n",
       "      <td>1.8</td>\n",
       "      <td>virginica</td>\n",
       "    </tr>\n",
       "  </tbody>\n",
       "</table>\n",
       "<p>150 rows × 5 columns</p>\n",
       "</div>"
      ],
      "text/plain": [
       "     sepal_length  sepal_width  petal_length  petal_width    species\n",
       "0             5.1          3.5           1.4          0.2     setosa\n",
       "1             4.9          3.0           1.4          0.2     setosa\n",
       "2             4.7          3.2           1.3          0.2     setosa\n",
       "3             4.6          3.1           1.5          0.2     setosa\n",
       "4             5.0          3.6           1.4          0.2     setosa\n",
       "..            ...          ...           ...          ...        ...\n",
       "145           6.7          3.0           5.2          2.3  virginica\n",
       "146           6.3          2.5           5.0          1.9  virginica\n",
       "147           6.5          3.0           5.2          2.0  virginica\n",
       "148           6.2          3.4           5.4          2.3  virginica\n",
       "149           5.9          3.0           5.1          1.8  virginica\n",
       "\n",
       "[150 rows x 5 columns]"
      ]
     },
     "execution_count": 14,
     "metadata": {},
     "output_type": "execute_result"
    }
   ],
   "source": [
    "iris"
   ]
  },
  {
   "cell_type": "code",
   "execution_count": 15,
   "id": "a10612e0",
   "metadata": {},
   "outputs": [],
   "source": [
    "X = iris.drop(columns='species')\n",
    "y = pd.get_dummies(iris['species']) #one-hot encoding의 경우 categorical_crossentropy 사용"
   ]
  },
  {
   "cell_type": "code",
   "execution_count": 29,
   "id": "8b3cda80",
   "metadata": {},
   "outputs": [],
   "source": [
    "y = iris['species']"
   ]
  },
  {
   "cell_type": "code",
   "execution_count": 32,
   "id": "d73fa7ad",
   "metadata": {
    "scrolled": false
   },
   "outputs": [],
   "source": [
    "from sklearn.preprocessing import LabelEncoder\n",
    "y = pd.DataFrame(LabelEncoder().fit_transform(y), columns=['species'])"
   ]
  },
  {
   "cell_type": "code",
   "execution_count": 34,
   "id": "f2491346",
   "metadata": {},
   "outputs": [
    {
     "data": {
      "text/html": [
       "<div>\n",
       "<style scoped>\n",
       "    .dataframe tbody tr th:only-of-type {\n",
       "        vertical-align: middle;\n",
       "    }\n",
       "\n",
       "    .dataframe tbody tr th {\n",
       "        vertical-align: top;\n",
       "    }\n",
       "\n",
       "    .dataframe thead th {\n",
       "        text-align: right;\n",
       "    }\n",
       "</style>\n",
       "<table border=\"1\" class=\"dataframe\">\n",
       "  <thead>\n",
       "    <tr style=\"text-align: right;\">\n",
       "      <th></th>\n",
       "      <th>species</th>\n",
       "    </tr>\n",
       "  </thead>\n",
       "  <tbody>\n",
       "    <tr>\n",
       "      <th>0</th>\n",
       "      <td>0</td>\n",
       "    </tr>\n",
       "    <tr>\n",
       "      <th>1</th>\n",
       "      <td>0</td>\n",
       "    </tr>\n",
       "    <tr>\n",
       "      <th>2</th>\n",
       "      <td>0</td>\n",
       "    </tr>\n",
       "    <tr>\n",
       "      <th>3</th>\n",
       "      <td>0</td>\n",
       "    </tr>\n",
       "    <tr>\n",
       "      <th>4</th>\n",
       "      <td>0</td>\n",
       "    </tr>\n",
       "    <tr>\n",
       "      <th>...</th>\n",
       "      <td>...</td>\n",
       "    </tr>\n",
       "    <tr>\n",
       "      <th>145</th>\n",
       "      <td>2</td>\n",
       "    </tr>\n",
       "    <tr>\n",
       "      <th>146</th>\n",
       "      <td>2</td>\n",
       "    </tr>\n",
       "    <tr>\n",
       "      <th>147</th>\n",
       "      <td>2</td>\n",
       "    </tr>\n",
       "    <tr>\n",
       "      <th>148</th>\n",
       "      <td>2</td>\n",
       "    </tr>\n",
       "    <tr>\n",
       "      <th>149</th>\n",
       "      <td>2</td>\n",
       "    </tr>\n",
       "  </tbody>\n",
       "</table>\n",
       "<p>150 rows × 1 columns</p>\n",
       "</div>"
      ],
      "text/plain": [
       "     species\n",
       "0          0\n",
       "1          0\n",
       "2          0\n",
       "3          0\n",
       "4          0\n",
       "..       ...\n",
       "145        2\n",
       "146        2\n",
       "147        2\n",
       "148        2\n",
       "149        2\n",
       "\n",
       "[150 rows x 1 columns]"
      ]
     },
     "execution_count": 34,
     "metadata": {},
     "output_type": "execute_result"
    }
   ],
   "source": [
    "y"
   ]
  },
  {
   "cell_type": "code",
   "execution_count": 30,
   "id": "b682a8a1",
   "metadata": {},
   "outputs": [],
   "source": [
    "y = y.replace({\"setosa\":0,\"versicolor\":1,\"virginica\":2}) # 이런 식으로 답이 정수형인 경우 sparse_categorical_crossentropy 사용"
   ]
  },
  {
   "cell_type": "code",
   "execution_count": 31,
   "id": "7073703f",
   "metadata": {},
   "outputs": [
    {
     "data": {
      "text/plain": [
       "0      0\n",
       "1      0\n",
       "2      0\n",
       "3      0\n",
       "4      0\n",
       "      ..\n",
       "145    2\n",
       "146    2\n",
       "147    2\n",
       "148    2\n",
       "149    2\n",
       "Name: species, Length: 150, dtype: int64"
      ]
     },
     "execution_count": 31,
     "metadata": {},
     "output_type": "execute_result"
    }
   ],
   "source": [
    "y"
   ]
  },
  {
   "cell_type": "code",
   "execution_count": 4,
   "id": "00ba32c5",
   "metadata": {},
   "outputs": [
    {
     "data": {
      "text/plain": [
       "sepal_length    0\n",
       "sepal_width     0\n",
       "petal_length    0\n",
       "petal_width     0\n",
       "dtype: int64"
      ]
     },
     "execution_count": 4,
     "metadata": {},
     "output_type": "execute_result"
    }
   ],
   "source": [
    "X.isna().sum()"
   ]
  },
  {
   "cell_type": "code",
   "execution_count": 5,
   "id": "9e57c512",
   "metadata": {},
   "outputs": [
    {
     "name": "stderr",
     "output_type": "stream",
     "text": [
      "2022-09-29 12:02:35.524898: I tensorflow/core/platform/cpu_feature_guard.cc:193] This TensorFlow binary is optimized with oneAPI Deep Neural Network Library (oneDNN) to use the following CPU instructions in performance-critical operations:  AVX2 AVX512F AVX512_VNNI FMA\n",
      "To enable them in other operations, rebuild TensorFlow with the appropriate compiler flags.\n",
      "2022-09-29 12:02:35.600706: I tensorflow/core/util/util.cc:169] oneDNN custom operations are on. You may see slightly different numerical results due to floating-point round-off errors from different computation orders. To turn them off, set the environment variable `TF_ENABLE_ONEDNN_OPTS=0`.\n"
     ]
    },
    {
     "name": "stdout",
     "output_type": "stream",
     "text": [
      "Model: \"sequential\"\n",
      "_________________________________________________________________\n",
      " Layer (type)                Output Shape              Param #   \n",
      "=================================================================\n",
      " dense (Dense)               (None, 64)                320       \n",
      "                                                                 \n",
      " dense_1 (Dense)             (None, 64)                4160      \n",
      "                                                                 \n",
      " dense_2 (Dense)             (None, 3)                 195       \n",
      "                                                                 \n",
      "=================================================================\n",
      "Total params: 4,675\n",
      "Trainable params: 4,675\n",
      "Non-trainable params: 0\n",
      "_________________________________________________________________\n"
     ]
    },
    {
     "name": "stderr",
     "output_type": "stream",
     "text": [
      "2022-09-29 12:02:36.387215: I tensorflow/core/platform/cpu_feature_guard.cc:193] This TensorFlow binary is optimized with oneAPI Deep Neural Network Library (oneDNN) to use the following CPU instructions in performance-critical operations:  AVX2 AVX512F AVX512_VNNI FMA\n",
      "To enable them in other operations, rebuild TensorFlow with the appropriate compiler flags.\n"
     ]
    }
   ],
   "source": [
    "from sklearn.preprocessing import StandardScaler\n",
    "X_scale = StandardScaler().fit_transform(X)\n",
    "\n",
    "from sklearn.model_selection import train_test_split\n",
    "X_train, X_test, y_train, y_test = train_test_split(X_scale, y, random_state=0)\n",
    "\n",
    "\n",
    "from tensorflow.keras.models import Sequential\n",
    "from tensorflow.keras.layers import Dense\n",
    "\n",
    "model = Sequential()\n",
    "model.add(Dense(64, activation='ReLU', input_shape=(X_train.shape[1],)))\n",
    "model.add(Dense(64, activation='ReLU'))\n",
    "model.add(Dense(3, activation='softmax'))\n",
    "\n",
    "model.summary()\n"
   ]
  },
  {
   "cell_type": "code",
   "execution_count": 6,
   "id": "d7faddf8",
   "metadata": {},
   "outputs": [
    {
     "data": {
      "text/plain": [
       "((112, 4), (112, 3), (38, 4), (38, 3))"
      ]
     },
     "execution_count": 6,
     "metadata": {},
     "output_type": "execute_result"
    }
   ],
   "source": [
    "X_train.shape, y_train.shape , X_test.shape, y_test.shape"
   ]
  },
  {
   "cell_type": "code",
   "execution_count": 7,
   "id": "534b80e4",
   "metadata": {},
   "outputs": [],
   "source": [
    "model.compile(loss='categorical_crossentropy', optimizer='Adam', metrics=['accuracy'])"
   ]
  },
  {
   "cell_type": "code",
   "execution_count": 8,
   "id": "02951e85",
   "metadata": {},
   "outputs": [],
   "source": [
    "from tensorflow.keras.callbacks import EarlyStopping\n",
    "cb = EarlyStopping(monitor='val_loss', patience=3)"
   ]
  },
  {
   "cell_type": "code",
   "execution_count": 9,
   "id": "32703ed1",
   "metadata": {},
   "outputs": [
    {
     "name": "stdout",
     "output_type": "stream",
     "text": [
      "Epoch 1/1000\n",
      "3/3 [==============================] - 0s 56ms/step - loss: 1.0187 - accuracy: 0.3483 - val_loss: 1.0005 - val_accuracy: 0.3043\n",
      "Epoch 2/1000\n",
      "3/3 [==============================] - 0s 9ms/step - loss: 0.9223 - accuracy: 0.5056 - val_loss: 0.9364 - val_accuracy: 0.5217\n",
      "Epoch 3/1000\n",
      "3/3 [==============================] - 0s 10ms/step - loss: 0.8371 - accuracy: 0.7416 - val_loss: 0.8794 - val_accuracy: 0.6087\n",
      "Epoch 4/1000\n",
      "3/3 [==============================] - 0s 10ms/step - loss: 0.7623 - accuracy: 0.7978 - val_loss: 0.8280 - val_accuracy: 0.6522\n",
      "Epoch 5/1000\n",
      "3/3 [==============================] - 0s 10ms/step - loss: 0.6994 - accuracy: 0.8315 - val_loss: 0.7830 - val_accuracy: 0.7391\n",
      "Epoch 6/1000\n",
      "3/3 [==============================] - 0s 10ms/step - loss: 0.6439 - accuracy: 0.8315 - val_loss: 0.7426 - val_accuracy: 0.7391\n",
      "Epoch 7/1000\n",
      "3/3 [==============================] - 0s 10ms/step - loss: 0.5942 - accuracy: 0.8315 - val_loss: 0.7070 - val_accuracy: 0.7391\n",
      "Epoch 8/1000\n",
      "3/3 [==============================] - 0s 9ms/step - loss: 0.5515 - accuracy: 0.8202 - val_loss: 0.6753 - val_accuracy: 0.7826\n",
      "Epoch 9/1000\n",
      "3/3 [==============================] - 0s 10ms/step - loss: 0.5135 - accuracy: 0.8427 - val_loss: 0.6481 - val_accuracy: 0.7826\n",
      "Epoch 10/1000\n",
      "3/3 [==============================] - 0s 9ms/step - loss: 0.4823 - accuracy: 0.8427 - val_loss: 0.6225 - val_accuracy: 0.7826\n",
      "Epoch 11/1000\n",
      "3/3 [==============================] - 0s 10ms/step - loss: 0.4545 - accuracy: 0.8539 - val_loss: 0.5999 - val_accuracy: 0.7826\n",
      "Epoch 12/1000\n",
      "3/3 [==============================] - 0s 10ms/step - loss: 0.4295 - accuracy: 0.8539 - val_loss: 0.5782 - val_accuracy: 0.7826\n",
      "Epoch 13/1000\n",
      "3/3 [==============================] - 0s 10ms/step - loss: 0.4062 - accuracy: 0.8539 - val_loss: 0.5571 - val_accuracy: 0.7826\n",
      "Epoch 14/1000\n",
      "3/3 [==============================] - 0s 10ms/step - loss: 0.3870 - accuracy: 0.8539 - val_loss: 0.5373 - val_accuracy: 0.7826\n",
      "Epoch 15/1000\n",
      "3/3 [==============================] - 0s 9ms/step - loss: 0.3693 - accuracy: 0.8539 - val_loss: 0.5172 - val_accuracy: 0.8261\n",
      "Epoch 16/1000\n",
      "3/3 [==============================] - 0s 9ms/step - loss: 0.3545 - accuracy: 0.8764 - val_loss: 0.4985 - val_accuracy: 0.8261\n",
      "Epoch 17/1000\n",
      "3/3 [==============================] - 0s 9ms/step - loss: 0.3393 - accuracy: 0.8764 - val_loss: 0.4803 - val_accuracy: 0.8261\n",
      "Epoch 18/1000\n",
      "3/3 [==============================] - 0s 9ms/step - loss: 0.3269 - accuracy: 0.8764 - val_loss: 0.4630 - val_accuracy: 0.8261\n",
      "Epoch 19/1000\n",
      "3/3 [==============================] - 0s 10ms/step - loss: 0.3151 - accuracy: 0.8764 - val_loss: 0.4469 - val_accuracy: 0.8261\n",
      "Epoch 20/1000\n",
      "3/3 [==============================] - 0s 11ms/step - loss: 0.3043 - accuracy: 0.8764 - val_loss: 0.4325 - val_accuracy: 0.8261\n",
      "Epoch 21/1000\n",
      "3/3 [==============================] - 0s 10ms/step - loss: 0.2951 - accuracy: 0.8764 - val_loss: 0.4157 - val_accuracy: 0.8261\n",
      "Epoch 22/1000\n",
      "3/3 [==============================] - 0s 10ms/step - loss: 0.2850 - accuracy: 0.8764 - val_loss: 0.4018 - val_accuracy: 0.8261\n",
      "Epoch 23/1000\n",
      "3/3 [==============================] - 0s 10ms/step - loss: 0.2757 - accuracy: 0.8764 - val_loss: 0.3886 - val_accuracy: 0.8261\n",
      "Epoch 24/1000\n",
      "3/3 [==============================] - 0s 10ms/step - loss: 0.2665 - accuracy: 0.8764 - val_loss: 0.3765 - val_accuracy: 0.8261\n",
      "Epoch 25/1000\n",
      "3/3 [==============================] - 0s 10ms/step - loss: 0.2576 - accuracy: 0.8764 - val_loss: 0.3657 - val_accuracy: 0.8261\n",
      "Epoch 26/1000\n",
      "3/3 [==============================] - 0s 10ms/step - loss: 0.2490 - accuracy: 0.8764 - val_loss: 0.3573 - val_accuracy: 0.8261\n",
      "Epoch 27/1000\n",
      "3/3 [==============================] - 0s 9ms/step - loss: 0.2398 - accuracy: 0.8876 - val_loss: 0.3472 - val_accuracy: 0.8261\n",
      "Epoch 28/1000\n",
      "3/3 [==============================] - 0s 10ms/step - loss: 0.2317 - accuracy: 0.8876 - val_loss: 0.3379 - val_accuracy: 0.8696\n",
      "Epoch 29/1000\n",
      "3/3 [==============================] - 0s 10ms/step - loss: 0.2233 - accuracy: 0.8876 - val_loss: 0.3299 - val_accuracy: 0.8696\n",
      "Epoch 30/1000\n",
      "3/3 [==============================] - 0s 10ms/step - loss: 0.2148 - accuracy: 0.8989 - val_loss: 0.3244 - val_accuracy: 0.8696\n",
      "Epoch 31/1000\n",
      "3/3 [==============================] - 0s 11ms/step - loss: 0.2080 - accuracy: 0.9213 - val_loss: 0.3203 - val_accuracy: 0.8696\n",
      "Epoch 32/1000\n",
      "3/3 [==============================] - 0s 10ms/step - loss: 0.1994 - accuracy: 0.9213 - val_loss: 0.3170 - val_accuracy: 0.8696\n",
      "Epoch 33/1000\n",
      "3/3 [==============================] - 0s 10ms/step - loss: 0.1923 - accuracy: 0.9213 - val_loss: 0.3071 - val_accuracy: 0.8696\n",
      "Epoch 34/1000\n",
      "3/3 [==============================] - 0s 10ms/step - loss: 0.1844 - accuracy: 0.9213 - val_loss: 0.3036 - val_accuracy: 0.8696\n",
      "Epoch 35/1000\n",
      "3/3 [==============================] - 0s 10ms/step - loss: 0.1772 - accuracy: 0.9213 - val_loss: 0.2979 - val_accuracy: 0.8696\n",
      "Epoch 36/1000\n",
      "3/3 [==============================] - 0s 9ms/step - loss: 0.1710 - accuracy: 0.9213 - val_loss: 0.2905 - val_accuracy: 0.8696\n",
      "Epoch 37/1000\n",
      "3/3 [==============================] - 0s 10ms/step - loss: 0.1635 - accuracy: 0.9326 - val_loss: 0.2887 - val_accuracy: 0.8696\n",
      "Epoch 38/1000\n",
      "3/3 [==============================] - 0s 10ms/step - loss: 0.1584 - accuracy: 0.9326 - val_loss: 0.2867 - val_accuracy: 0.8696\n",
      "Epoch 39/1000\n",
      "3/3 [==============================] - 0s 10ms/step - loss: 0.1512 - accuracy: 0.9438 - val_loss: 0.2792 - val_accuracy: 0.8696\n",
      "Epoch 40/1000\n",
      "3/3 [==============================] - 0s 10ms/step - loss: 0.1455 - accuracy: 0.9551 - val_loss: 0.2770 - val_accuracy: 0.8696\n",
      "Epoch 41/1000\n",
      "3/3 [==============================] - 0s 10ms/step - loss: 0.1401 - accuracy: 0.9551 - val_loss: 0.2694 - val_accuracy: 0.8696\n",
      "Epoch 42/1000\n",
      "3/3 [==============================] - 0s 11ms/step - loss: 0.1343 - accuracy: 0.9551 - val_loss: 0.2641 - val_accuracy: 0.8696\n",
      "Epoch 43/1000\n",
      "3/3 [==============================] - 0s 11ms/step - loss: 0.1285 - accuracy: 0.9551 - val_loss: 0.2626 - val_accuracy: 0.8696\n",
      "Epoch 44/1000\n",
      "3/3 [==============================] - 0s 9ms/step - loss: 0.1232 - accuracy: 0.9663 - val_loss: 0.2657 - val_accuracy: 0.8696\n",
      "Epoch 45/1000\n",
      "3/3 [==============================] - 0s 10ms/step - loss: 0.1184 - accuracy: 0.9663 - val_loss: 0.2626 - val_accuracy: 0.8696\n",
      "Epoch 46/1000\n",
      "3/3 [==============================] - 0s 10ms/step - loss: 0.1138 - accuracy: 0.9663 - val_loss: 0.2624 - val_accuracy: 0.8696\n",
      "Epoch 47/1000\n",
      "3/3 [==============================] - 0s 9ms/step - loss: 0.1085 - accuracy: 0.9888 - val_loss: 0.2568 - val_accuracy: 0.8696\n",
      "Epoch 48/1000\n",
      "3/3 [==============================] - 0s 10ms/step - loss: 0.1041 - accuracy: 1.0000 - val_loss: 0.2548 - val_accuracy: 0.8696\n",
      "Epoch 49/1000\n",
      "3/3 [==============================] - 0s 9ms/step - loss: 0.0998 - accuracy: 1.0000 - val_loss: 0.2461 - val_accuracy: 0.8696\n",
      "Epoch 50/1000\n",
      "3/3 [==============================] - 0s 10ms/step - loss: 0.0956 - accuracy: 1.0000 - val_loss: 0.2448 - val_accuracy: 0.8696\n",
      "Epoch 51/1000\n",
      "3/3 [==============================] - 0s 9ms/step - loss: 0.0909 - accuracy: 1.0000 - val_loss: 0.2400 - val_accuracy: 0.8696\n",
      "Epoch 52/1000\n",
      "3/3 [==============================] - 0s 9ms/step - loss: 0.0877 - accuracy: 1.0000 - val_loss: 0.2356 - val_accuracy: 0.8696\n",
      "Epoch 53/1000\n",
      "3/3 [==============================] - 0s 9ms/step - loss: 0.0836 - accuracy: 1.0000 - val_loss: 0.2342 - val_accuracy: 0.8696\n",
      "Epoch 54/1000\n",
      "3/3 [==============================] - 0s 13ms/step - loss: 0.0799 - accuracy: 1.0000 - val_loss: 0.2354 - val_accuracy: 0.8696\n",
      "Epoch 55/1000\n",
      "3/3 [==============================] - 0s 11ms/step - loss: 0.0760 - accuracy: 1.0000 - val_loss: 0.2368 - val_accuracy: 0.8696\n",
      "Epoch 56/1000\n",
      "3/3 [==============================] - 0s 10ms/step - loss: 0.0734 - accuracy: 1.0000 - val_loss: 0.2380 - val_accuracy: 0.8696\n",
      "4/4 [==============================] - 0s 1ms/step - loss: 0.1049 - accuracy: 0.9732\n",
      "2/2 [==============================] - 0s 2ms/step - loss: 0.2070 - accuracy: 0.8947\n"
     ]
    },
    {
     "data": {
      "text/plain": [
       "([0.10490057617425919, 0.9732142686843872],\n",
       " [0.20699290931224823, 0.8947368264198303])"
      ]
     },
     "execution_count": 9,
     "metadata": {},
     "output_type": "execute_result"
    }
   ],
   "source": [
    "model.fit(X_train, y_train, epochs=1000, verbose=1, validation_split=0.2, callbacks = [cb])\n",
    "model.evaluate(X_train, y_train), model.evaluate(X_test, y_test)"
   ]
  }
 ],
 "metadata": {
  "kernelspec": {
   "display_name": "Python 3 (ipykernel)",
   "language": "python",
   "name": "python3"
  },
  "language_info": {
   "codemirror_mode": {
    "name": "ipython",
    "version": 3
   },
   "file_extension": ".py",
   "mimetype": "text/x-python",
   "name": "python",
   "nbconvert_exporter": "python",
   "pygments_lexer": "ipython3",
   "version": "3.9.13"
  }
 },
 "nbformat": 4,
 "nbformat_minor": 5
}
