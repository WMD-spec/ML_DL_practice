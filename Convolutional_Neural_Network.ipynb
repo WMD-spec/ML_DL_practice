{
 "cells": [
  {
   "cell_type": "code",
   "execution_count": 1,
   "id": "39f28f1a",
   "metadata": {},
   "outputs": [
    {
     "name": "stderr",
     "output_type": "stream",
     "text": [
      "2022-09-29 14:20:32.902276: I tensorflow/core/platform/cpu_feature_guard.cc:193] This TensorFlow binary is optimized with oneAPI Deep Neural Network Library (oneDNN) to use the following CPU instructions in performance-critical operations:  AVX2 AVX512F AVX512_VNNI FMA\n",
      "To enable them in other operations, rebuild TensorFlow with the appropriate compiler flags.\n",
      "2022-09-29 14:20:32.980100: I tensorflow/core/util/util.cc:169] oneDNN custom operations are on. You may see slightly different numerical results due to floating-point round-off errors from different computation orders. To turn them off, set the environment variable `TF_ENABLE_ONEDNN_OPTS=0`.\n"
     ]
    },
    {
     "name": "stdout",
     "output_type": "stream",
     "text": [
      "Downloading data from https://storage.googleapis.com/tensorflow/tf-keras-datasets/mnist.npz\n",
      "11490434/11490434 [==============================] - 1s 0us/step\n",
      "<class 'tuple'> 2\n",
      "(60000, 28, 28) (10000,)\n",
      "(10000, 28, 28) (10000,)\n",
      "[5 0 4 1 9]\n"
     ]
    },
    {
     "data": {
      "image/png": "[encoded data removed]",
      "text/plain": [
       "<Figure size 640x480 with 5 Axes>"
      ]
     },
     "metadata": {},
     "output_type": "display_data"
    }
   ],
   "source": [
    "# DNN으로 숫자 손글씨 학습\n",
    "import tensorflow as tf\n",
    "import matplotlib.pyplot as plt\n",
    "import numpy as np\n",
    "\n",
    "mnist = tf.keras.datasets.mnist.load_data()\n",
    "print(type(mnist), len(mnist))\n",
    "\n",
    "(X_train, y_train), (X_test, y_test) = mnist\n",
    "print(X_train.shape, y_test.shape)\n",
    "print(X_test.shape, y_test.shape)\n",
    "\n",
    "print(y_train[:5])\n",
    "for i in range(5):\n",
    "    plt.subplot(1,5,i+1)\n",
    "    plt.imshow(X_train[i], cmap=\"gray\")\n"
   ]
  },
  {
   "cell_type": "code",
   "execution_count": 7,
   "id": "082cff8c",
   "metadata": {},
   "outputs": [],
   "source": [
    "# 정규화 \n",
    "(X_train, y_train), (X_test, y_test) = tf.keras.datasets.mnist.load_data()\n",
    "(X_train, X_test) = (np.float32(X_train)/255, np.float32(X_test)/255)\n",
    "# 2차원 > 1차원 전환\n",
    "n_input = 28*28\n",
    "(X_train, X_test) = (X_train.reshape(-1, n_input), X_test.reshape(-1, n_input))"
   ]
  },
  {
   "cell_type": "code",
   "execution_count": 8,
   "id": "38b23d89",
   "metadata": {},
   "outputs": [
    {
     "data": {
      "text/plain": [
       "(60000, 784)"
      ]
     },
     "execution_count": 8,
     "metadata": {},
     "output_type": "execute_result"
    }
   ],
   "source": [
    "X_train.shape"
   ]
  },
  {
   "cell_type": "code",
   "execution_count": 11,
   "id": "0170745f",
   "metadata": {
    "scrolled": false
   },
   "outputs": [
    {
     "name": "stdout",
     "output_type": "stream",
     "text": [
      "Model: \"sequential\"\n",
      "_________________________________________________________________\n",
      " Layer (type)                Output Shape              Param #   \n",
      "=================================================================\n",
      " dense (Dense)               (None, 300)               235500    \n",
      "                                                                 \n",
      " dense_1 (Dense)             (None, 100)               30100     \n",
      "                                                                 \n",
      " dropout (Dropout)           (None, 100)               0         \n",
      "                                                                 \n",
      " dense_2 (Dense)             (None, 10)                1010      \n",
      "                                                                 \n",
      "=================================================================\n",
      "Total params: 266,610\n",
      "Trainable params: 266,610\n",
      "Non-trainable params: 0\n",
      "_________________________________________________________________\n",
      "Epoch 1/10\n"
     ]
    },
    {
     "name": "stderr",
     "output_type": "stream",
     "text": [
      "2022-09-29 14:50:25.164777: I tensorflow/core/platform/cpu_feature_guard.cc:193] This TensorFlow binary is optimized with oneAPI Deep Neural Network Library (oneDNN) to use the following CPU instructions in performance-critical operations:  AVX2 AVX512F AVX512_VNNI FMA\n",
      "To enable them in other operations, rebuild TensorFlow with the appropriate compiler flags.\n"
     ]
    },
    {
     "name": "stdout",
     "output_type": "stream",
     "text": [
      "480/480 [==============================] - 1s 2ms/step - loss: 0.4123 - accuracy: 0.8779 - val_loss: 0.1486 - val_accuracy: 0.9569\n",
      "Epoch 2/10\n",
      "480/480 [==============================] - 1s 2ms/step - loss: 0.1683 - accuracy: 0.9528 - val_loss: 0.1114 - val_accuracy: 0.9667\n",
      "Epoch 3/10\n",
      "480/480 [==============================] - 1s 2ms/step - loss: 0.1147 - accuracy: 0.9664 - val_loss: 0.0910 - val_accuracy: 0.9721\n",
      "Epoch 4/10\n",
      "480/480 [==============================] - 1s 2ms/step - loss: 0.0854 - accuracy: 0.9753 - val_loss: 0.0970 - val_accuracy: 0.9709\n",
      "Epoch 5/10\n",
      "480/480 [==============================] - 1s 2ms/step - loss: 0.0694 - accuracy: 0.9795 - val_loss: 0.0859 - val_accuracy: 0.9754\n",
      "Epoch 6/10\n",
      "480/480 [==============================] - 1s 2ms/step - loss: 0.0525 - accuracy: 0.9843 - val_loss: 0.0828 - val_accuracy: 0.9773\n",
      "Epoch 7/10\n",
      "480/480 [==============================] - 1s 2ms/step - loss: 0.0467 - accuracy: 0.9857 - val_loss: 0.0846 - val_accuracy: 0.9765\n",
      "Epoch 8/10\n",
      "480/480 [==============================] - 1s 2ms/step - loss: 0.0401 - accuracy: 0.9872 - val_loss: 0.0795 - val_accuracy: 0.9790\n",
      "Epoch 9/10\n",
      "480/480 [==============================] - 1s 2ms/step - loss: 0.0342 - accuracy: 0.9896 - val_loss: 0.0859 - val_accuracy: 0.9759\n",
      "Epoch 10/10\n",
      "480/480 [==============================] - 1s 2ms/step - loss: 0.0277 - accuracy: 0.9915 - val_loss: 0.0912 - val_accuracy: 0.9763\n",
      "313/313 - 0s - loss: 0.0717 - accuracy: 0.9806 - 265ms/epoch - 847us/step\n",
      "Test loss: 0.07166891545057297\n",
      "Test accuracy: 0.9805999994277954\n"
     ]
    }
   ],
   "source": [
    "model = tf.keras.Sequential([\n",
    "    tf.keras.layers.Dense(300, activation='relu', input_shape=(28*28,)),\n",
    "    tf.keras.layers.Dense(100, activation='relu'),\n",
    "    tf.keras.layers.Dropout(0.5),\n",
    "    tf.keras.layers.Dense(10, activation='softmax')])\n",
    "model.summary()\n",
    "model.compile(loss='sparse_categorical_crossentropy',\n",
    "              optimizer='adam',\n",
    "              metrics=['accuracy'])\n",
    "\n",
    "history = model.fit(X_train, y_train,\n",
    "                    batch_size=100,\n",
    "                    epochs=10,\n",
    "                    validation_split=0.2)\n",
    "\n",
    "test_scores = model.evaluate(X_test, y_test, verbose=2)\n",
    "print('Test loss:', test_scores[0])\n",
    "print('Test accuracy:', test_scores[1])"
   ]
  },
  {
   "cell_type": "markdown",
   "id": "29b313db",
   "metadata": {},
   "source": [
    "# CNN 숫자 손글씨"
   ]
  },
  {
   "cell_type": "code",
   "execution_count": 15,
   "id": "b290d6ef",
   "metadata": {},
   "outputs": [
    {
     "name": "stdout",
     "output_type": "stream",
     "text": [
      "(60000, 28, 28)\n",
      "newaxis 이후 (60000, 28, 28, 1)\n"
     ]
    }
   ],
   "source": [
    "import tensorflow as tf\n",
    "import numpy as np\n",
    "\n",
    "n_input = 28*28\n",
    "n_L1 = 300\n",
    "n_L2 = 100\n",
    "n_output = 10\n",
    "\n",
    "(X_train, y_train), (X_test, y_test) = tf.keras.datasets.mnist.load_data() # 손글씨 데이터 로드\n",
    "\n",
    "#데이터 정규화\n",
    "X_train = X_train/255.0\n",
    "X_test = X_test/255.0\n",
    "\n",
    "print(X_train.shape)\n",
    "\n",
    "# 색상을 저장하기 위한 차원 추가\n",
    "X_train = X_train[..., tf.newaxis] # ... 은 기존의 데이터를 의미함.\n",
    "X_test = X_test[..., tf.newaxis]   # tf.newaxis는 새로운 차원을 뜻함  X_train = X_train.reshape(-1, 28, 28, 1) 도 가능 \n",
    "print(\"newaxis 이후\",X_train.shape)"
   ]
  },
  {
   "cell_type": "code",
   "execution_count": null,
   "id": "e184042b",
   "metadata": {},
   "outputs": [],
   "source": [
    "X_valid, X_train = X_train[:5000], X_train[5000:]  # 5천, 5만5천개로 valid와 train을 나눔\n",
    "y_valid, y_train = y_train[:5000], y_train[5000:]\n",
    "\n",
    "model = tf.keras.models.Sequential([\n",
    "    tf.keras.layers.Conv2D(32, 3, activation='relu', input_shape=(28,28,1)), # 마지막 차원 1은 흑백으로 없어도 표현은 흑백이지만 인풋으로 넘겨줄 때 3차원을 요구하기 때문에 위에처럼 newaxis를 통해 추가해줘야 한다.\n",
    "    tf.keras.layers.MaxPool2D(2, 2), \n",
    "    tf.keras.layers.Flatten(),\n",
    "    tf.keras.layers.Dense(128, activation=tf.nn.relu ), \n",
    "    tf.keras.layers.Dropout(0.3),\n",
    "    tf.keras.layers.Dense(n_output, activation=tf.nn.softmax)\n",
    "])\n",
    "model.summary()\n",
    "model.compile(optimizer='adam',\n",
    "              loss='sparse_categorical_crossentropy',\n",
    "              metrics=['accuracy'])\n",
    "\n",
    "model.fit(X_train, y_train, epochs=10, batch_size=100, validation_data=(X_valid, y_valid))\n",
    "\n",
    "test_loss, test_acc = model.evaluate(X_test, y_test, verbose=0)\n",
    "\n",
    "print(\"Test Accuracy:{}\".format(test_acc))"
   ]
  }
 ],
 "metadata": {
  "kernelspec": {
   "display_name": "Python 3 (ipykernel)",
   "language": "python",
   "name": "python3"
  },
  "language_info": {
   "codemirror_mode": {
    "name": "ipython",
    "version": 3
   },
   "file_extension": ".py",
   "mimetype": "text/x-python",
   "name": "python",
   "nbconvert_exporter": "python",
   "pygments_lexer": "ipython3",
   "version": "3.9.13"
  }
 },
 "nbformat": 4,
 "nbformat_minor": 5
}
