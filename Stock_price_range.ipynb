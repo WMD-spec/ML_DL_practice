{
 "cells": [
  {
   "cell_type": "markdown",
   "id": "2ff9a814",
   "metadata": {},
   "source": [
    "## 야후에서 데이터 받아오기"
   ]
  },
  {
   "cell_type": "code",
   "execution_count": 2,
   "id": "b873b26a",
   "metadata": {},
   "outputs": [],
   "source": [
    "import numpy as np\n",
    "import pandas as pd\n",
    "from pandas_datareader import data as wb\n",
    "import matplotlib.pyplot as plt\n",
    "from scipy.stats import norm\n",
    "%matplotlib inline\n",
    "\n",
    "ticker = 'XOM'\n",
    "data = pd.DataFrame()\n",
    "data[ticker] = wb.DataReader(ticker, data_source='yahoo', start='2000-1-1')['Adj Close']"
   ]
  },
  {
   "cell_type": "code",
   "execution_count": 3,
   "id": "9e6a2e06",
   "metadata": {},
   "outputs": [
    {
     "data": {
      "text/html": [
       "<div>\n",
       "<style scoped>\n",
       "    .dataframe tbody tr th:only-of-type {\n",
       "        vertical-align: middle;\n",
       "    }\n",
       "\n",
       "    .dataframe tbody tr th {\n",
       "        vertical-align: top;\n",
       "    }\n",
       "\n",
       "    .dataframe thead th {\n",
       "        text-align: right;\n",
       "    }\n",
       "</style>\n",
       "<table border=\"1\" class=\"dataframe\">\n",
       "  <thead>\n",
       "    <tr style=\"text-align: right;\">\n",
       "      <th></th>\n",
       "      <th>XOM</th>\n",
       "    </tr>\n",
       "    <tr>\n",
       "      <th>Date</th>\n",
       "      <th></th>\n",
       "    </tr>\n",
       "  </thead>\n",
       "  <tbody>\n",
       "    <tr>\n",
       "      <th>1999-12-31</th>\n",
       "      <td>19.838715</td>\n",
       "    </tr>\n",
       "    <tr>\n",
       "      <th>2000-01-03</th>\n",
       "      <td>19.284643</td>\n",
       "    </tr>\n",
       "    <tr>\n",
       "      <th>2000-01-04</th>\n",
       "      <td>18.915266</td>\n",
       "    </tr>\n",
       "    <tr>\n",
       "      <th>2000-01-05</th>\n",
       "      <td>19.946453</td>\n",
       "    </tr>\n",
       "    <tr>\n",
       "      <th>2000-01-06</th>\n",
       "      <td>20.977617</td>\n",
       "    </tr>\n",
       "    <tr>\n",
       "      <th>...</th>\n",
       "      <td>...</td>\n",
       "    </tr>\n",
       "    <tr>\n",
       "      <th>2022-09-16</th>\n",
       "      <td>93.209999</td>\n",
       "    </tr>\n",
       "    <tr>\n",
       "      <th>2022-09-19</th>\n",
       "      <td>93.199997</td>\n",
       "    </tr>\n",
       "    <tr>\n",
       "      <th>2022-09-20</th>\n",
       "      <td>92.440002</td>\n",
       "    </tr>\n",
       "    <tr>\n",
       "      <th>2022-09-21</th>\n",
       "      <td>90.949997</td>\n",
       "    </tr>\n",
       "    <tr>\n",
       "      <th>2022-09-22</th>\n",
       "      <td>90.570000</td>\n",
       "    </tr>\n",
       "  </tbody>\n",
       "</table>\n",
       "<p>5719 rows × 1 columns</p>\n",
       "</div>"
      ],
      "text/plain": [
       "                  XOM\n",
       "Date                 \n",
       "1999-12-31  19.838715\n",
       "2000-01-03  19.284643\n",
       "2000-01-04  18.915266\n",
       "2000-01-05  19.946453\n",
       "2000-01-06  20.977617\n",
       "...               ...\n",
       "2022-09-16  93.209999\n",
       "2022-09-19  93.199997\n",
       "2022-09-20  92.440002\n",
       "2022-09-21  90.949997\n",
       "2022-09-22  90.570000\n",
       "\n",
       "[5719 rows x 1 columns]"
      ]
     },
     "execution_count": 3,
     "metadata": {},
     "output_type": "execute_result"
    }
   ],
   "source": [
    "data"
   ]
  },
  {
   "cell_type": "markdown",
   "id": "f380156e",
   "metadata": {},
   "source": [
    "## .pct_change() 메소드를 통해 특정 기간의 로그 수익률 계산"
   ]
  },
  {
   "cell_type": "code",
   "execution_count": 31,
   "id": "f6fbdcca",
   "metadata": {},
   "outputs": [],
   "source": [
    "# 로그 수익률을 사용해야 계산이 용이, 상세 정보는 아래 링크 확인\n",
    "# https://insightcampus.co.kr/2019/01/04/%ED%8E%98%EC%96%B4-%ED%8A%B8%EB%A0%88%EC%9D%B4%EB%94%A9-%EA%B8%B0%EC%B4%88%ED%8E%B8-6-%EB%A1%9C%EA%B7%B8-%EC%88%98%EC%9D%B5%EB%A5%A0/\n",
    "log_returns = np.log(1 + data.pct_change())"
   ]
  },
  {
   "cell_type": "markdown",
   "id": "ee165be9",
   "metadata": {},
   "source": [
    "## “U”: 로그 수익률의 평균, “var”: 로그수익률의 분산"
   ]
  },
  {
   "cell_type": "code",
   "execution_count": 32,
   "id": "0929f393",
   "metadata": {},
   "outputs": [],
   "source": [
    "U = log_returns.mean()"
   ]
  },
  {
   "cell_type": "code",
   "execution_count": 33,
   "id": "e75c9244",
   "metadata": {},
   "outputs": [],
   "source": [
    "var = log_returns.var()"
   ]
  },
  {
   "cell_type": "markdown",
   "id": "cd5ee631",
   "metadata": {},
   "source": [
    "## 다음 공식을 사용하여 drift(브라운운동에서 사용되는 변수, 주가의 트렌드) 계산: \n",
    "\n",
    "$$\n",
    "drift = u - \\frac{1}{2} \\cdot var\n",
    "$$"
   ]
  },
  {
   "cell_type": "code",
   "execution_count": 34,
   "id": "678bef2f",
   "metadata": {},
   "outputs": [
    {
     "data": {
      "text/plain": [
       "XOM    0.000126\n",
       "dtype: float64"
      ]
     },
     "execution_count": 34,
     "metadata": {},
     "output_type": "execute_result"
    }
   ],
   "source": [
    "drift = U - 0.5*var\n",
    "drift"
   ]
  },
  {
   "cell_type": "markdown",
   "id": "1182a4f1",
   "metadata": {},
   "source": [
    "## stdev: 로그 수익률의 표준편차 "
   ]
  },
  {
   "cell_type": "code",
   "execution_count": 35,
   "id": "9422666e",
   "metadata": {},
   "outputs": [
    {
     "data": {
      "text/plain": [
       "XOM    0.016731\n",
       "dtype: float64"
      ]
     },
     "execution_count": 35,
     "metadata": {},
     "output_type": "execute_result"
    }
   ],
   "source": [
    "stdev = log_returns.std()\n",
    "stdev"
   ]
  },
  {
   "cell_type": "markdown",
   "id": "01ad58c8",
   "metadata": {},
   "source": [
    "## drift와 stdev array 형식으로 변환"
   ]
  },
  {
   "cell_type": "code",
   "execution_count": 36,
   "id": "4f8124e9",
   "metadata": {},
   "outputs": [
    {
     "data": {
      "text/plain": [
       "array([0.01673128])"
      ]
     },
     "execution_count": 36,
     "metadata": {},
     "output_type": "execute_result"
    }
   ],
   "source": [
    "drift.values\n",
    "stdev.values"
   ]
  },
  {
   "cell_type": "markdown",
   "id": "ae69ad0b",
   "metadata": {},
   "source": [
    "## 1년간 평균적으로 장이 열리는 날이 250일이기에 t_intervals 에 250을 할당\n",
    "## iteration에는 예측을 몇번 할 것인지 갯수 지정"
   ]
  },
  {
   "cell_type": "code",
   "execution_count": 37,
   "id": "67f531e9",
   "metadata": {},
   "outputs": [],
   "source": [
    "t_intervals = 250\n",
    "iterations = 10"
   ]
  },
  {
   "cell_type": "markdown",
   "id": "820cc4f0",
   "metadata": {},
   "source": [
    "$$\n",
    "일일\\_수익률 = exp({drift} + {stdev} * z), \n",
    "$$ \n",
    "<br>\n",
    "$$\n",
    "where\\  z = norm.ppf(np.random.rand(t\\_intervals, iterations)\n",
    "$$"
   ]
  },
  {
   "cell_type": "code",
   "execution_count": 38,
   "id": "401368cb",
   "metadata": {},
   "outputs": [
    {
     "data": {
      "text/plain": [
       "array([[0.95894105, 1.01390248, 1.03510348, ..., 0.99725859, 1.01330346,\n",
       "        0.99707537],\n",
       "       [0.99505173, 1.0237771 , 1.00220319, ..., 1.01276987, 0.99507958,\n",
       "        1.0059386 ],\n",
       "       [1.01004453, 1.0027576 , 1.00281763, ..., 0.99349199, 0.96372613,\n",
       "        0.99662548],\n",
       "       ...,\n",
       "       [1.01082806, 1.02866828, 1.00957246, ..., 0.99434516, 1.01088426,\n",
       "        1.0086084 ],\n",
       "       [0.99762527, 1.00524645, 1.00137077, ..., 0.99621505, 0.99353725,\n",
       "        1.00288093],\n",
       "       [0.99282014, 1.01022833, 0.98888886, ..., 1.01187078, 0.99007594,\n",
       "        0.99909681]])"
      ]
     },
     "execution_count": 38,
     "metadata": {},
     "output_type": "execute_result"
    }
   ],
   "source": [
    "daily_returns = np.exp(drift.values + stdev.values * norm.ppf(np.random.rand(t_intervals, iterations)))\n",
    "daily_returns"
   ]
  },
  {
   "cell_type": "markdown",
   "id": "9bd7db80",
   "metadata": {},
   "source": [
    "## S0에 가져온 데이터중 가장 마지막 종가를 할당."
   ]
  },
  {
   "cell_type": "code",
   "execution_count": 39,
   "id": "8c3694ce",
   "metadata": {
    "scrolled": true
   },
   "outputs": [
    {
     "data": {
      "text/plain": [
       "XOM    90.949997\n",
       "Name: 2022-09-21 00:00:00, dtype: float64"
      ]
     },
     "execution_count": 39,
     "metadata": {},
     "output_type": "execute_result"
    }
   ],
   "source": [
    "S0 = data.iloc[-1]\n",
    "S0"
   ]
  },
  {
   "cell_type": "markdown",
   "id": "1259386d",
   "metadata": {},
   "source": [
    "## daily_returns 배열과 같은 모양의 price_list 생성"
   ]
  },
  {
   "cell_type": "code",
   "execution_count": 40,
   "id": "78d853d6",
   "metadata": {},
   "outputs": [
    {
     "data": {
      "text/plain": [
       "array([[0., 0., 0., ..., 0., 0., 0.],\n",
       "       [0., 0., 0., ..., 0., 0., 0.],\n",
       "       [0., 0., 0., ..., 0., 0., 0.],\n",
       "       ...,\n",
       "       [0., 0., 0., ..., 0., 0., 0.],\n",
       "       [0., 0., 0., ..., 0., 0., 0.],\n",
       "       [0., 0., 0., ..., 0., 0., 0.]])"
      ]
     },
     "execution_count": 40,
     "metadata": {},
     "output_type": "execute_result"
    }
   ],
   "source": [
    "price_list = np.zeros_like(daily_returns)\n",
    "price_list"
   ]
  },
  {
   "cell_type": "markdown",
   "id": "eb3e0a00",
   "metadata": {},
   "source": [
    "## price_list의 첫번째 행을 가장 최근 종가 S0로 채움"
   ]
  },
  {
   "cell_type": "code",
   "execution_count": 41,
   "id": "d1cce56d",
   "metadata": {},
   "outputs": [
    {
     "data": {
      "text/plain": [
       "array([[90.94999695, 90.94999695, 90.94999695, ..., 90.94999695,\n",
       "        90.94999695, 90.94999695],\n",
       "       [ 0.        ,  0.        ,  0.        , ...,  0.        ,\n",
       "         0.        ,  0.        ],\n",
       "       [ 0.        ,  0.        ,  0.        , ...,  0.        ,\n",
       "         0.        ,  0.        ],\n",
       "       ...,\n",
       "       [ 0.        ,  0.        ,  0.        , ...,  0.        ,\n",
       "         0.        ,  0.        ],\n",
       "       [ 0.        ,  0.        ,  0.        , ...,  0.        ,\n",
       "         0.        ,  0.        ],\n",
       "       [ 0.        ,  0.        ,  0.        , ...,  0.        ,\n",
       "         0.        ,  0.        ]])"
      ]
     },
     "execution_count": 41,
     "metadata": {},
     "output_type": "execute_result"
    }
   ],
   "source": [
    "price_list[0] = S0\n",
    "price_list"
   ]
  },
  {
   "cell_type": "markdown",
   "id": "d5932a0c",
   "metadata": {},
   "source": [
    "## S0 기준으로 일일 수익률을 곱한 값을 루프를 통해 price_list에 할당"
   ]
  },
  {
   "cell_type": "code",
   "execution_count": 42,
   "id": "2c94b519",
   "metadata": {},
   "outputs": [
    {
     "data": {
      "text/plain": [
       "array([[ 90.94999695,  90.94999695,  90.94999695, ...,  90.94999695,\n",
       "         90.94999695,  90.94999695],\n",
       "       [ 90.49995148,  93.11252445,  91.15037743, ...,  92.11141654,\n",
       "         90.50248465,  91.49011222],\n",
       "       [ 91.40898059,  93.3692911 ,  91.40720589, ...,  91.51195411,\n",
       "         87.21960927,  91.18137726],\n",
       "       ...,\n",
       "       [ 91.44066663, 158.74087272, 112.61659699, ...,  95.78191052,\n",
       "         66.06303277,  98.02273212],\n",
       "       [ 91.22352011, 159.57369827, 112.77096866, ...,  95.41938084,\n",
       "         65.63608374,  98.3051285 ],\n",
       "       [ 90.56854809, 161.20587023, 111.51795418, ...,  96.55208349,\n",
       "         64.98470721,  98.21634046]])"
      ]
     },
     "execution_count": 42,
     "metadata": {},
     "output_type": "execute_result"
    }
   ],
   "source": [
    "for t in range(1, t_intervals):\n",
    "    price_list[t] = price_list[t-1] * daily_returns[t]\n",
    "\n",
    "price_list"
   ]
  },
  {
   "cell_type": "markdown",
   "id": "974152d7",
   "metadata": {},
   "source": [
    "## 플롯을 통해 확인"
   ]
  },
  {
   "cell_type": "code",
   "execution_count": 43,
   "id": "3a395d4c",
   "metadata": {},
   "outputs": [
    {
     "data": {
      "text/plain": [
       "[<matplotlib.lines.Line2D at 0x7f7c07fe4310>,\n",
       " <matplotlib.lines.Line2D at 0x7f7c07fe4370>,\n",
       " <matplotlib.lines.Line2D at 0x7f7c07fe43a0>,\n",
       " <matplotlib.lines.Line2D at 0x7f7c07fe4490>,\n",
       " <matplotlib.lines.Line2D at 0x7f7c07fe4580>,\n",
       " <matplotlib.lines.Line2D at 0x7f7c07fe4670>,\n",
       " <matplotlib.lines.Line2D at 0x7f7c07fe4760>,\n",
       " <matplotlib.lines.Line2D at 0x7f7c07fe4850>,\n",
       " <matplotlib.lines.Line2D at 0x7f7c07fe4940>,\n",
       " <matplotlib.lines.Line2D at 0x7f7c07fe4a30>]"
      ]
     },
     "execution_count": 43,
     "metadata": {},
     "output_type": "execute_result"
    },
    {
     "data": {
      "image/png": "[encoded data removed]",
      "text/plain": [
       "<Figure size 1000x600 with 1 Axes>"
      ]
     },
     "metadata": {},
     "output_type": "display_data"
    }
   ],
   "source": [
    "plt.figure(figsize=(10,6))\n",
    "plt.plot(price_list)"
   ]
  },
  {
   "cell_type": "code",
   "execution_count": 64,
   "id": "f6e80649",
   "metadata": {},
   "outputs": [
    {
     "data": {
      "text/plain": [
       "['0일 후 종가',\n",
       " '1일 후 종가',\n",
       " '2일 후 종가',\n",
       " '3일 후 종가',\n",
       " '4일 후 종가',\n",
       " '5일 후 종가',\n",
       " '6일 후 종가',\n",
       " '7일 후 종가',\n",
       " '8일 후 종가',\n",
       " '9일 후 종가',\n",
       " '10일 후 종가',\n",
       " '11일 후 종가',\n",
       " '12일 후 종가',\n",
       " '13일 후 종가',\n",
       " '14일 후 종가',\n",
       " '15일 후 종가',\n",
       " '16일 후 종가',\n",
       " '17일 후 종가',\n",
       " '18일 후 종가',\n",
       " '19일 후 종가',\n",
       " '20일 후 종가',\n",
       " '21일 후 종가',\n",
       " '22일 후 종가',\n",
       " '23일 후 종가',\n",
       " '24일 후 종가',\n",
       " '25일 후 종가',\n",
       " '26일 후 종가',\n",
       " '27일 후 종가',\n",
       " '28일 후 종가',\n",
       " '29일 후 종가',\n",
       " '30일 후 종가',\n",
       " '31일 후 종가',\n",
       " '32일 후 종가',\n",
       " '33일 후 종가',\n",
       " '34일 후 종가',\n",
       " '35일 후 종가',\n",
       " '36일 후 종가',\n",
       " '37일 후 종가',\n",
       " '38일 후 종가',\n",
       " '39일 후 종가',\n",
       " '40일 후 종가',\n",
       " '41일 후 종가',\n",
       " '42일 후 종가',\n",
       " '43일 후 종가',\n",
       " '44일 후 종가',\n",
       " '45일 후 종가',\n",
       " '46일 후 종가',\n",
       " '47일 후 종가',\n",
       " '48일 후 종가',\n",
       " '49일 후 종가',\n",
       " '50일 후 종가',\n",
       " '51일 후 종가',\n",
       " '52일 후 종가',\n",
       " '53일 후 종가',\n",
       " '54일 후 종가',\n",
       " '55일 후 종가',\n",
       " '56일 후 종가',\n",
       " '57일 후 종가',\n",
       " '58일 후 종가',\n",
       " '59일 후 종가',\n",
       " '60일 후 종가',\n",
       " '61일 후 종가',\n",
       " '62일 후 종가',\n",
       " '63일 후 종가',\n",
       " '64일 후 종가',\n",
       " '65일 후 종가',\n",
       " '66일 후 종가',\n",
       " '67일 후 종가',\n",
       " '68일 후 종가',\n",
       " '69일 후 종가',\n",
       " '70일 후 종가',\n",
       " '71일 후 종가',\n",
       " '72일 후 종가',\n",
       " '73일 후 종가',\n",
       " '74일 후 종가',\n",
       " '75일 후 종가',\n",
       " '76일 후 종가',\n",
       " '77일 후 종가',\n",
       " '78일 후 종가',\n",
       " '79일 후 종가',\n",
       " '80일 후 종가',\n",
       " '81일 후 종가',\n",
       " '82일 후 종가',\n",
       " '83일 후 종가',\n",
       " '84일 후 종가',\n",
       " '85일 후 종가',\n",
       " '86일 후 종가',\n",
       " '87일 후 종가',\n",
       " '88일 후 종가',\n",
       " '89일 후 종가',\n",
       " '90일 후 종가',\n",
       " '91일 후 종가',\n",
       " '92일 후 종가',\n",
       " '93일 후 종가',\n",
       " '94일 후 종가',\n",
       " '95일 후 종가',\n",
       " '96일 후 종가',\n",
       " '97일 후 종가',\n",
       " '98일 후 종가',\n",
       " '99일 후 종가',\n",
       " '100일 후 종가',\n",
       " '101일 후 종가',\n",
       " '102일 후 종가',\n",
       " '103일 후 종가',\n",
       " '104일 후 종가',\n",
       " '105일 후 종가',\n",
       " '106일 후 종가',\n",
       " '107일 후 종가',\n",
       " '108일 후 종가',\n",
       " '109일 후 종가',\n",
       " '110일 후 종가',\n",
       " '111일 후 종가',\n",
       " '112일 후 종가',\n",
       " '113일 후 종가',\n",
       " '114일 후 종가',\n",
       " '115일 후 종가',\n",
       " '116일 후 종가',\n",
       " '117일 후 종가',\n",
       " '118일 후 종가',\n",
       " '119일 후 종가',\n",
       " '120일 후 종가',\n",
       " '121일 후 종가',\n",
       " '122일 후 종가',\n",
       " '123일 후 종가',\n",
       " '124일 후 종가',\n",
       " '125일 후 종가',\n",
       " '126일 후 종가',\n",
       " '127일 후 종가',\n",
       " '128일 후 종가',\n",
       " '129일 후 종가',\n",
       " '130일 후 종가',\n",
       " '131일 후 종가',\n",
       " '132일 후 종가',\n",
       " '133일 후 종가',\n",
       " '134일 후 종가',\n",
       " '135일 후 종가',\n",
       " '136일 후 종가',\n",
       " '137일 후 종가',\n",
       " '138일 후 종가',\n",
       " '139일 후 종가',\n",
       " '140일 후 종가',\n",
       " '141일 후 종가',\n",
       " '142일 후 종가',\n",
       " '143일 후 종가',\n",
       " '144일 후 종가',\n",
       " '145일 후 종가',\n",
       " '146일 후 종가',\n",
       " '147일 후 종가',\n",
       " '148일 후 종가',\n",
       " '149일 후 종가',\n",
       " '150일 후 종가',\n",
       " '151일 후 종가',\n",
       " '152일 후 종가',\n",
       " '153일 후 종가',\n",
       " '154일 후 종가',\n",
       " '155일 후 종가',\n",
       " '156일 후 종가',\n",
       " '157일 후 종가',\n",
       " '158일 후 종가',\n",
       " '159일 후 종가',\n",
       " '160일 후 종가',\n",
       " '161일 후 종가',\n",
       " '162일 후 종가',\n",
       " '163일 후 종가',\n",
       " '164일 후 종가',\n",
       " '165일 후 종가',\n",
       " '166일 후 종가',\n",
       " '167일 후 종가',\n",
       " '168일 후 종가',\n",
       " '169일 후 종가',\n",
       " '170일 후 종가',\n",
       " '171일 후 종가',\n",
       " '172일 후 종가',\n",
       " '173일 후 종가',\n",
       " '174일 후 종가',\n",
       " '175일 후 종가',\n",
       " '176일 후 종가',\n",
       " '177일 후 종가',\n",
       " '178일 후 종가',\n",
       " '179일 후 종가',\n",
       " '180일 후 종가',\n",
       " '181일 후 종가',\n",
       " '182일 후 종가',\n",
       " '183일 후 종가',\n",
       " '184일 후 종가',\n",
       " '185일 후 종가',\n",
       " '186일 후 종가',\n",
       " '187일 후 종가',\n",
       " '188일 후 종가',\n",
       " '189일 후 종가',\n",
       " '190일 후 종가',\n",
       " '191일 후 종가',\n",
       " '192일 후 종가',\n",
       " '193일 후 종가',\n",
       " '194일 후 종가',\n",
       " '195일 후 종가',\n",
       " '196일 후 종가',\n",
       " '197일 후 종가',\n",
       " '198일 후 종가',\n",
       " '199일 후 종가',\n",
       " '200일 후 종가',\n",
       " '201일 후 종가',\n",
       " '202일 후 종가',\n",
       " '203일 후 종가',\n",
       " '204일 후 종가',\n",
       " '205일 후 종가',\n",
       " '206일 후 종가',\n",
       " '207일 후 종가',\n",
       " '208일 후 종가',\n",
       " '209일 후 종가',\n",
       " '210일 후 종가',\n",
       " '211일 후 종가',\n",
       " '212일 후 종가',\n",
       " '213일 후 종가',\n",
       " '214일 후 종가',\n",
       " '215일 후 종가',\n",
       " '216일 후 종가',\n",
       " '217일 후 종가',\n",
       " '218일 후 종가',\n",
       " '219일 후 종가',\n",
       " '220일 후 종가',\n",
       " '221일 후 종가',\n",
       " '222일 후 종가',\n",
       " '223일 후 종가',\n",
       " '224일 후 종가',\n",
       " '225일 후 종가',\n",
       " '226일 후 종가',\n",
       " '227일 후 종가',\n",
       " '228일 후 종가',\n",
       " '229일 후 종가',\n",
       " '230일 후 종가',\n",
       " '231일 후 종가',\n",
       " '232일 후 종가',\n",
       " '233일 후 종가',\n",
       " '234일 후 종가',\n",
       " '235일 후 종가',\n",
       " '236일 후 종가',\n",
       " '237일 후 종가',\n",
       " '238일 후 종가',\n",
       " '239일 후 종가',\n",
       " '240일 후 종가',\n",
       " '241일 후 종가',\n",
       " '242일 후 종가',\n",
       " '243일 후 종가',\n",
       " '244일 후 종가',\n",
       " '245일 후 종가',\n",
       " '246일 후 종가',\n",
       " '247일 후 종가',\n",
       " '248일 후 종가',\n",
       " '249일 후 종가']"
      ]
     },
     "execution_count": 64,
     "metadata": {},
     "output_type": "execute_result"
    }
   ],
   "source": [
    "column_name = []\n",
    "for i in range(t_intervals):\n",
    "    column_name.append(str(i)+ '일 후 종가')\n",
    "column_name"
   ]
  },
  {
   "cell_type": "code",
   "execution_count": 65,
   "id": "9c27d0be",
   "metadata": {},
   "outputs": [
    {
     "data": {
      "text/plain": [
       "['1번째 예측',\n",
       " '2번째 예측',\n",
       " '3번째 예측',\n",
       " '4번째 예측',\n",
       " '5번째 예측',\n",
       " '6번째 예측',\n",
       " '7번째 예측',\n",
       " '8번째 예측',\n",
       " '9번째 예측',\n",
       " '10번째 예측']"
      ]
     },
     "execution_count": 65,
     "metadata": {},
     "output_type": "execute_result"
    }
   ],
   "source": [
    "index_name = []\n",
    "for i in range(iterations):\n",
    "    index_name.append(str(i+1) + '번째 예측')\n",
    "index_name"
   ]
  },
  {
   "cell_type": "code",
   "execution_count": 66,
   "id": "f33acac0",
   "metadata": {},
   "outputs": [],
   "source": [
    "df_price=pd.DataFrame(price_list, index = column_name, columns = index_name)"
   ]
  },
  {
   "cell_type": "code",
   "execution_count": 67,
   "id": "72d5c775",
   "metadata": {
    "scrolled": false
   },
   "outputs": [
    {
     "data": {
      "text/html": [
       "<div>\n",
       "<style scoped>\n",
       "    .dataframe tbody tr th:only-of-type {\n",
       "        vertical-align: middle;\n",
       "    }\n",
       "\n",
       "    .dataframe tbody tr th {\n",
       "        vertical-align: top;\n",
       "    }\n",
       "\n",
       "    .dataframe thead th {\n",
       "        text-align: right;\n",
       "    }\n",
       "</style>\n",
       "<table border=\"1\" class=\"dataframe\">\n",
       "  <thead>\n",
       "    <tr style=\"text-align: right;\">\n",
       "      <th></th>\n",
       "      <th>0일 후 종가</th>\n",
       "      <th>1일 후 종가</th>\n",
       "      <th>2일 후 종가</th>\n",
       "      <th>3일 후 종가</th>\n",
       "      <th>4일 후 종가</th>\n",
       "      <th>5일 후 종가</th>\n",
       "      <th>6일 후 종가</th>\n",
       "      <th>7일 후 종가</th>\n",
       "      <th>8일 후 종가</th>\n",
       "      <th>9일 후 종가</th>\n",
       "      <th>...</th>\n",
       "      <th>240일 후 종가</th>\n",
       "      <th>241일 후 종가</th>\n",
       "      <th>242일 후 종가</th>\n",
       "      <th>243일 후 종가</th>\n",
       "      <th>244일 후 종가</th>\n",
       "      <th>245일 후 종가</th>\n",
       "      <th>246일 후 종가</th>\n",
       "      <th>247일 후 종가</th>\n",
       "      <th>248일 후 종가</th>\n",
       "      <th>249일 후 종가</th>\n",
       "    </tr>\n",
       "  </thead>\n",
       "  <tbody>\n",
       "    <tr>\n",
       "      <th>1번째 예측</th>\n",
       "      <td>90.949997</td>\n",
       "      <td>90.499951</td>\n",
       "      <td>91.408981</td>\n",
       "      <td>91.708195</td>\n",
       "      <td>89.613787</td>\n",
       "      <td>89.936749</td>\n",
       "      <td>89.469056</td>\n",
       "      <td>90.737520</td>\n",
       "      <td>87.993538</td>\n",
       "      <td>87.446689</td>\n",
       "      <td>...</td>\n",
       "      <td>97.533146</td>\n",
       "      <td>94.851559</td>\n",
       "      <td>95.377529</td>\n",
       "      <td>94.562634</td>\n",
       "      <td>90.768156</td>\n",
       "      <td>91.342929</td>\n",
       "      <td>90.461148</td>\n",
       "      <td>91.440667</td>\n",
       "      <td>91.223520</td>\n",
       "      <td>90.568548</td>\n",
       "    </tr>\n",
       "    <tr>\n",
       "      <th>2번째 예측</th>\n",
       "      <td>90.949997</td>\n",
       "      <td>93.112524</td>\n",
       "      <td>93.369291</td>\n",
       "      <td>91.883979</td>\n",
       "      <td>93.710244</td>\n",
       "      <td>96.982282</td>\n",
       "      <td>98.380231</td>\n",
       "      <td>98.726330</td>\n",
       "      <td>94.699795</td>\n",
       "      <td>94.438820</td>\n",
       "      <td>...</td>\n",
       "      <td>152.181506</td>\n",
       "      <td>153.904166</td>\n",
       "      <td>153.773719</td>\n",
       "      <td>152.823609</td>\n",
       "      <td>153.038865</td>\n",
       "      <td>152.750100</td>\n",
       "      <td>154.316873</td>\n",
       "      <td>158.740873</td>\n",
       "      <td>159.573698</td>\n",
       "      <td>161.205870</td>\n",
       "    </tr>\n",
       "    <tr>\n",
       "      <th>3번째 예측</th>\n",
       "      <td>90.949997</td>\n",
       "      <td>91.150377</td>\n",
       "      <td>91.407206</td>\n",
       "      <td>90.077749</td>\n",
       "      <td>89.253374</td>\n",
       "      <td>89.561895</td>\n",
       "      <td>92.268387</td>\n",
       "      <td>87.827078</td>\n",
       "      <td>88.877883</td>\n",
       "      <td>89.796303</td>\n",
       "      <td>...</td>\n",
       "      <td>116.941829</td>\n",
       "      <td>113.680707</td>\n",
       "      <td>112.837646</td>\n",
       "      <td>110.424568</td>\n",
       "      <td>109.492370</td>\n",
       "      <td>110.992094</td>\n",
       "      <td>111.548800</td>\n",
       "      <td>112.616597</td>\n",
       "      <td>112.770969</td>\n",
       "      <td>111.517954</td>\n",
       "    </tr>\n",
       "    <tr>\n",
       "      <th>4번째 예측</th>\n",
       "      <td>90.949997</td>\n",
       "      <td>89.835697</td>\n",
       "      <td>89.450727</td>\n",
       "      <td>90.371994</td>\n",
       "      <td>91.791559</td>\n",
       "      <td>91.491701</td>\n",
       "      <td>90.283515</td>\n",
       "      <td>92.434404</td>\n",
       "      <td>93.981151</td>\n",
       "      <td>92.600412</td>\n",
       "      <td>...</td>\n",
       "      <td>131.264918</td>\n",
       "      <td>131.563617</td>\n",
       "      <td>131.719765</td>\n",
       "      <td>126.846160</td>\n",
       "      <td>127.733709</td>\n",
       "      <td>128.163058</td>\n",
       "      <td>130.022417</td>\n",
       "      <td>129.872391</td>\n",
       "      <td>127.145028</td>\n",
       "      <td>130.810045</td>\n",
       "    </tr>\n",
       "    <tr>\n",
       "      <th>5번째 예측</th>\n",
       "      <td>90.949997</td>\n",
       "      <td>90.154688</td>\n",
       "      <td>90.310729</td>\n",
       "      <td>90.268357</td>\n",
       "      <td>89.068719</td>\n",
       "      <td>91.843470</td>\n",
       "      <td>93.125529</td>\n",
       "      <td>91.994406</td>\n",
       "      <td>95.570344</td>\n",
       "      <td>94.483810</td>\n",
       "      <td>...</td>\n",
       "      <td>71.893041</td>\n",
       "      <td>72.885871</td>\n",
       "      <td>73.332917</td>\n",
       "      <td>72.521185</td>\n",
       "      <td>72.183715</td>\n",
       "      <td>72.316742</td>\n",
       "      <td>73.168207</td>\n",
       "      <td>72.778149</td>\n",
       "      <td>72.537523</td>\n",
       "      <td>71.733963</td>\n",
       "    </tr>\n",
       "    <tr>\n",
       "      <th>6번째 예측</th>\n",
       "      <td>90.949997</td>\n",
       "      <td>88.974271</td>\n",
       "      <td>89.147214</td>\n",
       "      <td>89.394717</td>\n",
       "      <td>88.070807</td>\n",
       "      <td>88.104329</td>\n",
       "      <td>90.940648</td>\n",
       "      <td>92.455884</td>\n",
       "      <td>93.430554</td>\n",
       "      <td>96.118429</td>\n",
       "      <td>...</td>\n",
       "      <td>131.074966</td>\n",
       "      <td>130.897002</td>\n",
       "      <td>132.408468</td>\n",
       "      <td>126.515142</td>\n",
       "      <td>125.578347</td>\n",
       "      <td>127.688720</td>\n",
       "      <td>127.784425</td>\n",
       "      <td>128.484394</td>\n",
       "      <td>128.973694</td>\n",
       "      <td>128.622698</td>\n",
       "    </tr>\n",
       "    <tr>\n",
       "      <th>7번째 예측</th>\n",
       "      <td>90.949997</td>\n",
       "      <td>91.088085</td>\n",
       "      <td>92.735968</td>\n",
       "      <td>91.383071</td>\n",
       "      <td>90.055849</td>\n",
       "      <td>89.049403</td>\n",
       "      <td>87.549889</td>\n",
       "      <td>85.778997</td>\n",
       "      <td>85.764772</td>\n",
       "      <td>86.977535</td>\n",
       "      <td>...</td>\n",
       "      <td>61.913314</td>\n",
       "      <td>60.945035</td>\n",
       "      <td>62.357837</td>\n",
       "      <td>61.721701</td>\n",
       "      <td>62.068728</td>\n",
       "      <td>61.111807</td>\n",
       "      <td>59.511198</td>\n",
       "      <td>61.374625</td>\n",
       "      <td>61.524749</td>\n",
       "      <td>62.144965</td>\n",
       "    </tr>\n",
       "    <tr>\n",
       "      <th>8번째 예측</th>\n",
       "      <td>90.949997</td>\n",
       "      <td>92.111417</td>\n",
       "      <td>91.511954</td>\n",
       "      <td>90.308628</td>\n",
       "      <td>88.869450</td>\n",
       "      <td>92.291627</td>\n",
       "      <td>91.199146</td>\n",
       "      <td>90.316929</td>\n",
       "      <td>89.065966</td>\n",
       "      <td>89.352991</td>\n",
       "      <td>...</td>\n",
       "      <td>90.869148</td>\n",
       "      <td>89.799227</td>\n",
       "      <td>91.445909</td>\n",
       "      <td>91.977559</td>\n",
       "      <td>95.967830</td>\n",
       "      <td>93.359374</td>\n",
       "      <td>96.326622</td>\n",
       "      <td>95.781911</td>\n",
       "      <td>95.419381</td>\n",
       "      <td>96.552083</td>\n",
       "    </tr>\n",
       "    <tr>\n",
       "      <th>9번째 예측</th>\n",
       "      <td>90.949997</td>\n",
       "      <td>90.502485</td>\n",
       "      <td>87.219609</td>\n",
       "      <td>87.745997</td>\n",
       "      <td>87.572211</td>\n",
       "      <td>86.655815</td>\n",
       "      <td>87.844362</td>\n",
       "      <td>89.325783</td>\n",
       "      <td>87.774521</td>\n",
       "      <td>86.954539</td>\n",
       "      <td>...</td>\n",
       "      <td>61.330449</td>\n",
       "      <td>61.594541</td>\n",
       "      <td>63.455303</td>\n",
       "      <td>64.831006</td>\n",
       "      <td>65.154146</td>\n",
       "      <td>64.949038</td>\n",
       "      <td>65.351727</td>\n",
       "      <td>66.063033</td>\n",
       "      <td>65.636084</td>\n",
       "      <td>64.984707</td>\n",
       "    </tr>\n",
       "    <tr>\n",
       "      <th>10번째 예측</th>\n",
       "      <td>90.949997</td>\n",
       "      <td>91.490112</td>\n",
       "      <td>91.181377</td>\n",
       "      <td>94.062062</td>\n",
       "      <td>92.860632</td>\n",
       "      <td>94.727528</td>\n",
       "      <td>94.933993</td>\n",
       "      <td>94.726762</td>\n",
       "      <td>95.012426</td>\n",
       "      <td>93.332104</td>\n",
       "      <td>...</td>\n",
       "      <td>93.289453</td>\n",
       "      <td>94.886359</td>\n",
       "      <td>94.462607</td>\n",
       "      <td>96.026047</td>\n",
       "      <td>95.240059</td>\n",
       "      <td>96.385351</td>\n",
       "      <td>97.186115</td>\n",
       "      <td>98.022732</td>\n",
       "      <td>98.305129</td>\n",
       "      <td>98.216340</td>\n",
       "    </tr>\n",
       "  </tbody>\n",
       "</table>\n",
       "<p>10 rows × 250 columns</p>\n",
       "</div>"
      ],
      "text/plain": [
       "           0일 후 종가    1일 후 종가    2일 후 종가    3일 후 종가    4일 후 종가    5일 후 종가  \\\n",
       "1번째 예측   90.949997  90.499951  91.408981  91.708195  89.613787  89.936749   \n",
       "2번째 예측   90.949997  93.112524  93.369291  91.883979  93.710244  96.982282   \n",
       "3번째 예측   90.949997  91.150377  91.407206  90.077749  89.253374  89.561895   \n",
       "4번째 예측   90.949997  89.835697  89.450727  90.371994  91.791559  91.491701   \n",
       "5번째 예측   90.949997  90.154688  90.310729  90.268357  89.068719  91.843470   \n",
       "6번째 예측   90.949997  88.974271  89.147214  89.394717  88.070807  88.104329   \n",
       "7번째 예측   90.949997  91.088085  92.735968  91.383071  90.055849  89.049403   \n",
       "8번째 예측   90.949997  92.111417  91.511954  90.308628  88.869450  92.291627   \n",
       "9번째 예측   90.949997  90.502485  87.219609  87.745997  87.572211  86.655815   \n",
       "10번째 예측  90.949997  91.490112  91.181377  94.062062  92.860632  94.727528   \n",
       "\n",
       "           6일 후 종가    7일 후 종가    8일 후 종가    9일 후 종가  ...   240일 후 종가  \\\n",
       "1번째 예측   89.469056  90.737520  87.993538  87.446689  ...   97.533146   \n",
       "2번째 예측   98.380231  98.726330  94.699795  94.438820  ...  152.181506   \n",
       "3번째 예측   92.268387  87.827078  88.877883  89.796303  ...  116.941829   \n",
       "4번째 예측   90.283515  92.434404  93.981151  92.600412  ...  131.264918   \n",
       "5번째 예측   93.125529  91.994406  95.570344  94.483810  ...   71.893041   \n",
       "6번째 예측   90.940648  92.455884  93.430554  96.118429  ...  131.074966   \n",
       "7번째 예측   87.549889  85.778997  85.764772  86.977535  ...   61.913314   \n",
       "8번째 예측   91.199146  90.316929  89.065966  89.352991  ...   90.869148   \n",
       "9번째 예측   87.844362  89.325783  87.774521  86.954539  ...   61.330449   \n",
       "10번째 예측  94.933993  94.726762  95.012426  93.332104  ...   93.289453   \n",
       "\n",
       "          241일 후 종가   242일 후 종가   243일 후 종가   244일 후 종가   245일 후 종가  \\\n",
       "1번째 예측    94.851559   95.377529   94.562634   90.768156   91.342929   \n",
       "2번째 예측   153.904166  153.773719  152.823609  153.038865  152.750100   \n",
       "3번째 예측   113.680707  112.837646  110.424568  109.492370  110.992094   \n",
       "4번째 예측   131.563617  131.719765  126.846160  127.733709  128.163058   \n",
       "5번째 예측    72.885871   73.332917   72.521185   72.183715   72.316742   \n",
       "6번째 예측   130.897002  132.408468  126.515142  125.578347  127.688720   \n",
       "7번째 예측    60.945035   62.357837   61.721701   62.068728   61.111807   \n",
       "8번째 예측    89.799227   91.445909   91.977559   95.967830   93.359374   \n",
       "9번째 예측    61.594541   63.455303   64.831006   65.154146   64.949038   \n",
       "10번째 예측   94.886359   94.462607   96.026047   95.240059   96.385351   \n",
       "\n",
       "          246일 후 종가   247일 후 종가   248일 후 종가   249일 후 종가  \n",
       "1번째 예측    90.461148   91.440667   91.223520   90.568548  \n",
       "2번째 예측   154.316873  158.740873  159.573698  161.205870  \n",
       "3번째 예측   111.548800  112.616597  112.770969  111.517954  \n",
       "4번째 예측   130.022417  129.872391  127.145028  130.810045  \n",
       "5번째 예측    73.168207   72.778149   72.537523   71.733963  \n",
       "6번째 예측   127.784425  128.484394  128.973694  128.622698  \n",
       "7번째 예측    59.511198   61.374625   61.524749   62.144965  \n",
       "8번째 예측    96.326622   95.781911   95.419381   96.552083  \n",
       "9번째 예측    65.351727   66.063033   65.636084   64.984707  \n",
       "10번째 예측   97.186115   98.022732   98.305129   98.216340  \n",
       "\n",
       "[10 rows x 250 columns]"
      ]
     },
     "execution_count": 67,
     "metadata": {},
     "output_type": "execute_result"
    }
   ],
   "source": [
    "df_price.T"
   ]
  },
  {
   "cell_type": "code",
   "execution_count": 77,
   "id": "7cd7bea9",
   "metadata": {},
   "outputs": [
    {
     "data": {
      "text/plain": [
       "1번째 예측     -0.42\n",
       "2번째 예측     77.25\n",
       "3번째 예측     22.61\n",
       "4번째 예측     43.83\n",
       "5번째 예측    -21.13\n",
       "6번째 예측     41.42\n",
       "7번째 예측    -31.67\n",
       "8번째 예측      6.16\n",
       "9번째 예측    -28.55\n",
       "10번째 예측     7.99\n",
       "dtype: float64"
      ]
     },
     "execution_count": 77,
     "metadata": {},
     "output_type": "execute_result"
    }
   ],
   "source": [
    "# 해당 기간 단순 보유했을 때, 배당을 고려하지 않은 순수 매매차익 수익률\n",
    "round(((df_price.T['249일 후 종가'] - df_price.T['0일 후 종가'] )/ df_price.T['0일 후 종가']) * 100, 2)"
   ]
  }
 ],
 "metadata": {
  "kernelspec": {
   "display_name": "Python 3 (ipykernel)",
   "language": "python",
   "name": "python3"
  },
  "language_info": {
   "codemirror_mode": {
    "name": "ipython",
    "version": 3
   },
   "file_extension": ".py",
   "mimetype": "text/x-python",
   "name": "python",
   "nbconvert_exporter": "python",
   "pygments_lexer": "ipython3",
   "version": "3.9.13"
  }
 },
 "nbformat": 4,
 "nbformat_minor": 5
}
