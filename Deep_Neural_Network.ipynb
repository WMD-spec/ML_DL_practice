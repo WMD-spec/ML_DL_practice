{
 "cells": [
  {
   "cell_type": "markdown",
   "id": "6fa94fbb",
   "metadata": {},
   "source": [
    "머신러닝 > 데이터 패턴 인식\n",
    "\n",
    "공부시간   2,    3,    7,  10\n",
    "시험성적 70,  72,  80,  95\n",
    "\n",
    "관계식을 생성, 입력 대비 출력에 대한 함수 --> 직선 방정식\n",
    "\n",
    "회귀: 값의 흐름(값을 예측) \n",
    "이진분류: 확률(입력값의 결과가 1이 될 확률, sigmoid로 확률이 0.5보다 낮으면 0 아니면 1로 변환)\n",
    "다항분류: 확률 (입력값의 결과가 해당 분류값이 될 확률, 각 종류별 확률이 반환되고 그 중 가장 높은 값으로 예측 - 모든 확률의 합이 1)\n",
    "\t\t\t\ta: 0.2, b: 0.5, c: 0.3\n",
    "sklearn.linaer.LinearRegression\n",
    "sklearn.neighbors.KneighborsClassifier\n",
    "sklearn.neighbors.KneighborsRegressor\n",
    "\n",
    "작업순서\n",
    "1. 데이터 로딩\n",
    "import pandas as pd\n",
    "ti = pd.read_csv(\"./titanic.csv\")\n",
    "\n",
    "2. 타입확인\n",
    "ti.info()\n",
    "\n",
    "3. 독립변수, 종속변수 구분\n",
    "y = ti[\"survived\"]\n",
    "X = ti[   [\" .... \"]   ] \n",
    "\n",
    "4. 독립변수에서 결측치 제거, 학습할 때 오류발생\n",
    "ti.isna().sum()\n",
    "\n",
    "ti[\"age\"] = ti[\"age\"].fillna( ti[\"age\"].mean() )"
   ]
  },
  {
   "cell_type": "code",
   "execution_count": 1,
   "id": "99b4d1c7",
   "metadata": {},
   "outputs": [
    {
     "name": "stdout",
     "output_type": "stream",
     "text": [
      "<class 'pandas.core.frame.DataFrame'>\n",
      "RangeIndex: 891 entries, 0 to 890\n",
      "Data columns (total 15 columns):\n",
      " #   Column       Non-Null Count  Dtype   \n",
      "---  ------       --------------  -----   \n",
      " 0   survived     891 non-null    int64   \n",
      " 1   pclass       891 non-null    int64   \n",
      " 2   sex          891 non-null    object  \n",
      " 3   age          714 non-null    float64 \n",
      " 4   sibsp        891 non-null    int64   \n",
      " 5   parch        891 non-null    int64   \n",
      " 6   fare         891 non-null    float64 \n",
      " 7   embarked     889 non-null    object  \n",
      " 8   class        891 non-null    category\n",
      " 9   who          891 non-null    object  \n",
      " 10  adult_male   891 non-null    bool    \n",
      " 11  deck         203 non-null    category\n",
      " 12  embark_town  889 non-null    object  \n",
      " 13  alive        891 non-null    object  \n",
      " 14  alone        891 non-null    bool    \n",
      "dtypes: bool(2), category(2), float64(2), int64(4), object(5)\n",
      "memory usage: 80.7+ KB\n"
     ]
    }
   ],
   "source": [
    "# 1. 데이터 로딩\n",
    "import pandas as pd\n",
    "# ti = pd.read_csv(\"./titanic.csv\")\n",
    "import seaborn as sns\n",
    "ti = sns.load_dataset(\"titanic\")\n",
    "\n",
    "# 2. 타입확인\n",
    "ti.info()\n",
    "\n"
   ]
  },
  {
   "cell_type": "code",
   "execution_count": 3,
   "id": "3ccf6bd3",
   "metadata": {},
   "outputs": [
    {
     "data": {
      "text/plain": [
       "survived         0\n",
       "pclass           0\n",
       "sex              0\n",
       "age            177\n",
       "sibsp            0\n",
       "parch            0\n",
       "fare             0\n",
       "embarked         2\n",
       "class            0\n",
       "who              0\n",
       "adult_male       0\n",
       "deck           688\n",
       "embark_town      2\n",
       "alive            0\n",
       "alone            0\n",
       "dtype: int64"
      ]
     },
     "execution_count": 3,
     "metadata": {},
     "output_type": "execute_result"
    }
   ],
   "source": [
    "# 3. 독립변수, 종속변수 구분\n",
    "y = ti[\"survived\"]\n",
    "X = ti[   [\"pclass\",\"age\",\"sibsp\",\"parch\",\"fare\"]   ] \n",
    "\n",
    "# 4. 독립변수에서 결측치 제거, 학습할 때 오류발생\n",
    "ti.isna().sum()\n",
    "\n"
   ]
  },
  {
   "cell_type": "code",
   "execution_count": 5,
   "id": "3df04ef4",
   "metadata": {},
   "outputs": [
    {
     "name": "stderr",
     "output_type": "stream",
     "text": [
      "/tmp/ipykernel_4994/74648944.py:2: SettingWithCopyWarning: \n",
      "A value is trying to be set on a copy of a slice from a DataFrame.\n",
      "Try using .loc[row_indexer,col_indexer] = value instead\n",
      "\n",
      "See the caveats in the documentation: https://pandas.pydata.org/pandas-docs/stable/user_guide/indexing.html#returning-a-view-versus-a-copy\n",
      "  X[\"age\"] = ti[\"age\"].fillna( ti[\"age\"].mean() )\n"
     ]
    },
    {
     "data": {
      "text/plain": [
       "pclass    0\n",
       "age       0\n",
       "sibsp     0\n",
       "parch     0\n",
       "fare      0\n",
       "dtype: int64"
      ]
     },
     "execution_count": 5,
     "metadata": {},
     "output_type": "execute_result"
    }
   ],
   "source": [
    "# age의 결측치는 age의 평균으로 채움\n",
    "X[\"age\"] = ti[\"age\"].fillna( ti[\"age\"].mean() )\n",
    "# 결측치 검사\n",
    "X.isna().sum()"
   ]
  },
  {
   "cell_type": "code",
   "execution_count": 6,
   "id": "173f3ddb",
   "metadata": {},
   "outputs": [],
   "source": [
    "# X를 표준화 시킴, 각 독립변수들은 독립적인 정보를 가짐. \n",
    "# 모든 독립변수들이 같은 정보를 표현할 때엔 정규화 (MinMaxScaler)\n",
    "from sklearn.preprocessing import StandardScaler\n",
    "X_scale = StandardScaler().fit_transform(X)"
   ]
  },
  {
   "cell_type": "code",
   "execution_count": 7,
   "id": "3c04f356",
   "metadata": {},
   "outputs": [
    {
     "data": {
      "text/plain": [
       "((668, 5), (668,), (223, 5), (223,))"
      ]
     },
     "execution_count": 7,
     "metadata": {},
     "output_type": "execute_result"
    }
   ],
   "source": [
    "# 훈련, 테스트데이터 분리\n",
    "from sklearn.model_selection import train_test_split\n",
    "X_train, X_test, y_train, y_test = train_test_split( X_scale, y, random_state=0, stratify=y)\n",
    "X_train.shape, y_train.shape, X_test.shape, y_test.shape"
   ]
  },
  {
   "cell_type": "code",
   "execution_count": 9,
   "id": "9fc85fb7",
   "metadata": {},
   "outputs": [
    {
     "data": {
      "text/plain": [
       "(0.7125748502994012, 0.6860986547085202)"
      ]
     },
     "execution_count": 9,
     "metadata": {},
     "output_type": "execute_result"
    }
   ],
   "source": [
    "# 머신러닝 (이항분류)\n",
    "from sklearn.linear_model import LogisticRegression\n",
    "model = LogisticRegression(max_iter = 1000)\n",
    "model.fit(X_train,y_train)\n",
    "model.score(X_train,y_train), model.score(X_test,y_test)"
   ]
  },
  {
   "cell_type": "code",
   "execution_count": 12,
   "id": "81bea970",
   "metadata": {},
   "outputs": [
    {
     "name": "stdout",
     "output_type": "stream",
     "text": [
      "Model: \"sequential_2\"\n",
      "_________________________________________________________________\n",
      " Layer (type)                Output Shape              Param #   \n",
      "=================================================================\n",
      " dense_2 (Dense)             (None, 10)                60        \n",
      "                                                                 \n",
      " dense_3 (Dense)             (None, 1)                 11        \n",
      "                                                                 \n",
      "=================================================================\n",
      "Total params: 71\n",
      "Trainable params: 71\n",
      "Non-trainable params: 0\n",
      "_________________________________________________________________\n"
     ]
    }
   ],
   "source": [
    "# 딥러닝 (이항분류)\n",
    "from tensorflow.keras.models import Sequential\n",
    "from tensorflow.keras.layers import Dense\n",
    "model = Sequential()  # 이 방법과 Sequential을 만들 때 Dense를 list형태로 넘겨주는 방법이 있다.(교재 p.18 참고)\n",
    "model.add(\n",
    "    Dense(10, activation = 'ReLU', # 칼럼이 5개이므로 대략 10개의 unit 생성\n",
    "    input_shape = (X_train.shape[1],))\n",
    ") \n",
    "model.add(\n",
    "    Dense(1, activation = 'sigmoid')\n",
    ")\n",
    "model.summary()\n"
   ]
  },
  {
   "cell_type": "code",
   "execution_count": 13,
   "id": "b62ba7bf",
   "metadata": {},
   "outputs": [],
   "source": [
    "# 1개 정답과 예측값의 차이: 오차\n",
    "# 모든 입력값의 오차의 합: 비용(cost, loss)\n",
    "# 정답을 찾는 방법 정의\n",
    "model.compile(\n",
    "    loss='binary_crossentropy',  # 회귀: mse, 다항: (sparse_)categorical_crossentropy\n",
    "    optimizer='Adam', # 오차에 대한 미분과 미분된 값을 W에 업데이트, 즉 back propagation을 자동화시켜주는 기능 (기울기 미분, 가중치 업데이트 자동화 도구)\n",
    "    metrics=['Accuracy'] # 옵션 사항으로, 지정한 loss외의 값으로 성능 측정을 하고 싶을 때 명시. 리스트형식이기 때문에 여러개 명시 가능\n",
    ")"
   ]
  },
  {
   "cell_type": "code",
   "execution_count": 19,
   "id": "65535356",
   "metadata": {},
   "outputs": [
    {
     "name": "stdout",
     "output_type": "stream",
     "text": [
      "Epoch 1/100\n",
      "21/21 [==============================] - 0s 654us/step - loss: 0.5412 - Accuracy: 0.7395\n",
      "Epoch 2/100\n",
      "21/21 [==============================] - 0s 704us/step - loss: 0.5413 - Accuracy: 0.7395\n",
      "Epoch 3/100\n",
      "21/21 [==============================] - 0s 741us/step - loss: 0.5411 - Accuracy: 0.7380\n",
      "Epoch 4/100\n",
      "21/21 [==============================] - 0s 753us/step - loss: 0.5408 - Accuracy: 0.7380\n",
      "Epoch 5/100\n",
      "21/21 [==============================] - 0s 739us/step - loss: 0.5408 - Accuracy: 0.7395\n",
      "Epoch 6/100\n",
      "21/21 [==============================] - 0s 769us/step - loss: 0.5407 - Accuracy: 0.7395\n",
      "Epoch 7/100\n",
      "21/21 [==============================] - 0s 767us/step - loss: 0.5405 - Accuracy: 0.7395\n",
      "Epoch 8/100\n",
      "21/21 [==============================] - 0s 803us/step - loss: 0.5404 - Accuracy: 0.7380\n",
      "Epoch 9/100\n",
      "21/21 [==============================] - 0s 763us/step - loss: 0.5404 - Accuracy: 0.7380\n",
      "Epoch 10/100\n",
      "21/21 [==============================] - 0s 760us/step - loss: 0.5403 - Accuracy: 0.7395\n",
      "Epoch 11/100\n",
      "21/21 [==============================] - 0s 729us/step - loss: 0.5403 - Accuracy: 0.7395\n",
      "Epoch 12/100\n",
      "21/21 [==============================] - 0s 733us/step - loss: 0.5401 - Accuracy: 0.7395\n",
      "Epoch 13/100\n",
      "21/21 [==============================] - 0s 733us/step - loss: 0.5402 - Accuracy: 0.7380\n",
      "Epoch 14/100\n",
      "21/21 [==============================] - 0s 790us/step - loss: 0.5399 - Accuracy: 0.7395\n",
      "Epoch 15/100\n",
      "21/21 [==============================] - 0s 731us/step - loss: 0.5399 - Accuracy: 0.7395\n",
      "Epoch 16/100\n",
      "21/21 [==============================] - 0s 772us/step - loss: 0.5396 - Accuracy: 0.7380\n",
      "Epoch 17/100\n",
      "21/21 [==============================] - 0s 750us/step - loss: 0.5396 - Accuracy: 0.7380\n",
      "Epoch 18/100\n",
      "21/21 [==============================] - 0s 784us/step - loss: 0.5398 - Accuracy: 0.7380\n",
      "Epoch 19/100\n",
      "21/21 [==============================] - 0s 760us/step - loss: 0.5395 - Accuracy: 0.7395\n",
      "Epoch 20/100\n",
      "21/21 [==============================] - 0s 764us/step - loss: 0.5393 - Accuracy: 0.7380\n",
      "Epoch 21/100\n",
      "21/21 [==============================] - 0s 728us/step - loss: 0.5393 - Accuracy: 0.7380\n",
      "Epoch 22/100\n",
      "21/21 [==============================] - 0s 778us/step - loss: 0.5392 - Accuracy: 0.7395\n",
      "Epoch 23/100\n",
      "21/21 [==============================] - 0s 756us/step - loss: 0.5392 - Accuracy: 0.7395\n",
      "Epoch 24/100\n",
      "21/21 [==============================] - 0s 824us/step - loss: 0.5391 - Accuracy: 0.7395\n",
      "Epoch 25/100\n",
      "21/21 [==============================] - 0s 824us/step - loss: 0.5392 - Accuracy: 0.7380\n",
      "Epoch 26/100\n",
      "21/21 [==============================] - 0s 827us/step - loss: 0.5390 - Accuracy: 0.7380\n",
      "Epoch 27/100\n",
      "21/21 [==============================] - 0s 790us/step - loss: 0.5388 - Accuracy: 0.7380\n",
      "Epoch 28/100\n",
      "21/21 [==============================] - 0s 798us/step - loss: 0.5386 - Accuracy: 0.7380\n",
      "Epoch 29/100\n",
      "21/21 [==============================] - 0s 812us/step - loss: 0.5389 - Accuracy: 0.7395\n",
      "Epoch 30/100\n",
      "21/21 [==============================] - 0s 796us/step - loss: 0.5387 - Accuracy: 0.7395\n",
      "Epoch 31/100\n",
      "21/21 [==============================] - 0s 804us/step - loss: 0.5385 - Accuracy: 0.7380\n",
      "Epoch 32/100\n",
      "21/21 [==============================] - 0s 819us/step - loss: 0.5385 - Accuracy: 0.7380\n",
      "Epoch 33/100\n",
      "21/21 [==============================] - 0s 855us/step - loss: 0.5383 - Accuracy: 0.7380\n",
      "Epoch 34/100\n",
      "21/21 [==============================] - 0s 837us/step - loss: 0.5384 - Accuracy: 0.7380\n",
      "Epoch 35/100\n",
      "21/21 [==============================] - 0s 803us/step - loss: 0.5382 - Accuracy: 0.7380\n",
      "Epoch 36/100\n",
      "21/21 [==============================] - 0s 1ms/step - loss: 0.5383 - Accuracy: 0.7380\n",
      "Epoch 37/100\n",
      "21/21 [==============================] - 0s 782us/step - loss: 0.5381 - Accuracy: 0.7395\n",
      "Epoch 38/100\n",
      "21/21 [==============================] - 0s 718us/step - loss: 0.5380 - Accuracy: 0.7395\n",
      "Epoch 39/100\n",
      "21/21 [==============================] - 0s 744us/step - loss: 0.5381 - Accuracy: 0.7395\n",
      "Epoch 40/100\n",
      "21/21 [==============================] - 0s 763us/step - loss: 0.5381 - Accuracy: 0.7380\n",
      "Epoch 41/100\n",
      "21/21 [==============================] - 0s 802us/step - loss: 0.5379 - Accuracy: 0.7395\n",
      "Epoch 42/100\n",
      "21/21 [==============================] - 0s 821us/step - loss: 0.5378 - Accuracy: 0.7395\n",
      "Epoch 43/100\n",
      "21/21 [==============================] - 0s 851us/step - loss: 0.5377 - Accuracy: 0.7410\n",
      "Epoch 44/100\n",
      "21/21 [==============================] - 0s 798us/step - loss: 0.5377 - Accuracy: 0.7395\n",
      "Epoch 45/100\n",
      "21/21 [==============================] - 0s 800us/step - loss: 0.5377 - Accuracy: 0.7410\n",
      "Epoch 46/100\n",
      "21/21 [==============================] - 0s 809us/step - loss: 0.5378 - Accuracy: 0.7410\n",
      "Epoch 47/100\n",
      "21/21 [==============================] - 0s 785us/step - loss: 0.5374 - Accuracy: 0.7395\n",
      "Epoch 48/100\n",
      "21/21 [==============================] - 0s 788us/step - loss: 0.5375 - Accuracy: 0.7395\n",
      "Epoch 49/100\n",
      "21/21 [==============================] - 0s 797us/step - loss: 0.5374 - Accuracy: 0.7410\n",
      "Epoch 50/100\n",
      "21/21 [==============================] - 0s 796us/step - loss: 0.5380 - Accuracy: 0.7410\n",
      "Epoch 51/100\n",
      "21/21 [==============================] - 0s 775us/step - loss: 0.5372 - Accuracy: 0.7410\n",
      "Epoch 52/100\n",
      "21/21 [==============================] - 0s 840us/step - loss: 0.5371 - Accuracy: 0.7380\n",
      "Epoch 53/100\n",
      "21/21 [==============================] - 0s 732us/step - loss: 0.5369 - Accuracy: 0.7380\n",
      "Epoch 54/100\n",
      "21/21 [==============================] - 0s 734us/step - loss: 0.5370 - Accuracy: 0.7410\n",
      "Epoch 55/100\n",
      "21/21 [==============================] - 0s 719us/step - loss: 0.5369 - Accuracy: 0.7380\n",
      "Epoch 56/100\n",
      "21/21 [==============================] - 0s 690us/step - loss: 0.5368 - Accuracy: 0.7395\n",
      "Epoch 57/100\n",
      "21/21 [==============================] - 0s 686us/step - loss: 0.5370 - Accuracy: 0.7395\n",
      "Epoch 58/100\n",
      "21/21 [==============================] - 0s 679us/step - loss: 0.5368 - Accuracy: 0.7425\n",
      "Epoch 59/100\n",
      "21/21 [==============================] - 0s 666us/step - loss: 0.5367 - Accuracy: 0.7395\n",
      "Epoch 60/100\n",
      "21/21 [==============================] - 0s 700us/step - loss: 0.5367 - Accuracy: 0.7365\n",
      "Epoch 61/100\n",
      "21/21 [==============================] - 0s 702us/step - loss: 0.5364 - Accuracy: 0.7380\n",
      "Epoch 62/100\n",
      "21/21 [==============================] - 0s 728us/step - loss: 0.5368 - Accuracy: 0.7395\n",
      "Epoch 63/100\n",
      "21/21 [==============================] - 0s 704us/step - loss: 0.5363 - Accuracy: 0.7440\n",
      "Epoch 64/100\n",
      "21/21 [==============================] - 0s 749us/step - loss: 0.5362 - Accuracy: 0.7440\n",
      "Epoch 65/100\n",
      "21/21 [==============================] - 0s 740us/step - loss: 0.5362 - Accuracy: 0.7440\n",
      "Epoch 66/100\n",
      "21/21 [==============================] - 0s 722us/step - loss: 0.5361 - Accuracy: 0.7440\n",
      "Epoch 67/100\n",
      "21/21 [==============================] - 0s 755us/step - loss: 0.5363 - Accuracy: 0.7440\n",
      "Epoch 68/100\n",
      "21/21 [==============================] - 0s 692us/step - loss: 0.5360 - Accuracy: 0.7440\n",
      "Epoch 69/100\n",
      "21/21 [==============================] - 0s 725us/step - loss: 0.5361 - Accuracy: 0.7455\n",
      "Epoch 70/100\n",
      "21/21 [==============================] - 0s 700us/step - loss: 0.5359 - Accuracy: 0.7440\n",
      "Epoch 71/100\n",
      "21/21 [==============================] - 0s 718us/step - loss: 0.5358 - Accuracy: 0.7440\n",
      "Epoch 72/100\n",
      "21/21 [==============================] - 0s 708us/step - loss: 0.5358 - Accuracy: 0.7440\n",
      "Epoch 73/100\n",
      "21/21 [==============================] - 0s 715us/step - loss: 0.5357 - Accuracy: 0.7440\n",
      "Epoch 74/100\n",
      "21/21 [==============================] - 0s 709us/step - loss: 0.5358 - Accuracy: 0.7440\n",
      "Epoch 75/100\n",
      "21/21 [==============================] - 0s 716us/step - loss: 0.5356 - Accuracy: 0.7440\n",
      "Epoch 76/100\n",
      "21/21 [==============================] - 0s 706us/step - loss: 0.5356 - Accuracy: 0.7440\n",
      "Epoch 77/100\n",
      "21/21 [==============================] - 0s 701us/step - loss: 0.5357 - Accuracy: 0.7425\n",
      "Epoch 78/100\n",
      "21/21 [==============================] - 0s 741us/step - loss: 0.5355 - Accuracy: 0.7455\n",
      "Epoch 79/100\n",
      "21/21 [==============================] - 0s 762us/step - loss: 0.5355 - Accuracy: 0.7440\n",
      "Epoch 80/100\n",
      "21/21 [==============================] - 0s 734us/step - loss: 0.5358 - Accuracy: 0.7440\n",
      "Epoch 81/100\n"
     ]
    },
    {
     "name": "stdout",
     "output_type": "stream",
     "text": [
      " 1/21 [>.............................] - ETA: 0s - loss: 0.5554 - Accuracy: 0.7188\b\b\b\b\b\b\b\b\b\b\b\b\b\b\b\b\b\b\b\b\b\b\b\b\b\b\b\b\b\b\b\b\b\b\b\b\b\b\b\b\b\b\b\b\b\b\b\b\b\b\b\b\b\b\b\b\b\b\b\b\b\b\b\b\b\b\b\b\b\b\b\b\b\b\b\b\b\b\b\b\b\b\r",
      "21/21 [==============================] - 0s 752us/step - loss: 0.5356 - Accuracy: 0.7455\n"
     ]
    },
    {
     "data": {
      "text/plain": [
       "<keras.callbacks.History at 0x7fc746f93af0>"
      ]
     },
     "execution_count": 19,
     "metadata": {},
     "output_type": "execute_result"
    }
   ],
   "source": [
    "# 조기종료 콜백 \n",
    "from tensorflow.keras import callbacks\n",
    "cb = callbacks.EarlyStopping(monitor='loss', patience=3)\n",
    "# 모델 훈련\n",
    "model.fit(X_train, y_train, epochs=100, verbose=1, callbacks=[cb]) # 콜백 역시 리스트로 여러 콜백 옵션을 줄 수 있다.\n",
    "# 훈련이 덜 된 것 같을 땐 fit만 따로 빼서 돌림으로 정확도를 올릴 수 있다.\n",
    "# 위 셀의 코드와 같이 돌리면 매번 새로운 모델로 초기화 된다."
   ]
  },
  {
   "cell_type": "code",
   "execution_count": 20,
   "id": "2ca50b13",
   "metadata": {},
   "outputs": [
    {
     "name": "stdout",
     "output_type": "stream",
     "text": [
      "21/21 [==============================] - 0s 708us/step - loss: 0.5350 - Accuracy: 0.7470\n",
      "7/7 [==============================] - 0s 778us/step - loss: 0.5735 - Accuracy: 0.6906\n"
     ]
    },
    {
     "data": {
      "text/plain": [
       "([0.5350239276885986, 0.7470059990882874],\n",
       " [0.5735021233558655, 0.6905829310417175])"
      ]
     },
     "execution_count": 20,
     "metadata": {},
     "output_type": "execute_result"
    }
   ],
   "source": [
    "# 모델 성능 측정\n",
    "model.evaluate(X_train, y_train), model.evaluate(X_test, y_test)"
   ]
  },
  {
   "cell_type": "code",
   "execution_count": null,
   "id": "d288361c",
   "metadata": {},
   "outputs": [],
   "source": []
  }
 ],
 "metadata": {
  "kernelspec": {
   "display_name": "Python 3 (ipykernel)",
   "language": "python",
   "name": "python3"
  },
  "language_info": {
   "codemirror_mode": {
    "name": "ipython",
    "version": 3
   },
   "file_extension": ".py",
   "mimetype": "text/x-python",
   "name": "python",
   "nbconvert_exporter": "python",
   "pygments_lexer": "ipython3",
   "version": "3.9.13"
  }
 },
 "nbformat": 4,
 "nbformat_minor": 5
}
