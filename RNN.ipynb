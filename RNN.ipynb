{
 "cells": [
  {
   "cell_type": "markdown",
   "metadata": {},
   "source": [
    "# Recurrent Neural Network, 순환 신경망\n"
   ]
  },
  {
   "cell_type": "markdown",
   "metadata": {},
   "source": [
    "### RNN 실습, 다음 수 예측( Many to One)\n",
    "* RNN 구조를 직접 구현해서 다음 숫자 예측하는 실습    "
   ]
  },
  {
   "cell_type": "markdown",
   "metadata": {},
   "source": [
    "#### 입출력 데이타 준비"
   ]
  },
  {
   "cell_type": "code",
   "execution_count": 1,
   "metadata": {},
   "outputs": [
    {
     "name": "stderr",
     "output_type": "stream",
     "text": [
      "2022-10-05 13:14:05.878504: I tensorflow/core/platform/cpu_feature_guard.cc:193] This TensorFlow binary is optimized with oneAPI Deep Neural Network Library (oneDNN) to use the following CPU instructions in performance-critical operations:  AVX2 AVX512F AVX512_VNNI FMA\n",
      "To enable them in other operations, rebuild TensorFlow with the appropriate compiler flags.\n",
      "2022-10-05 13:14:05.973407: I tensorflow/core/util/util.cc:169] oneDNN custom operations are on. You may see slightly different numerical results due to floating-point round-off errors from different computation orders. To turn them off, set the environment variable `TF_ENABLE_ONEDNN_OPTS=0`.\n",
      "2022-10-05 13:14:05.997476: E tensorflow/stream_executor/cuda/cuda_blas.cc:2981] Unable to register cuBLAS factory: Attempting to register factory for plugin cuBLAS when one has already been registered\n",
      "2022-10-05 13:14:06.556480: W tensorflow/stream_executor/platform/default/dso_loader.cc:64] Could not load dynamic library 'libnvinfer.so.7'; dlerror: libnvinfer.so.7: cannot open shared object file: No such file or directory; LD_LIBRARY_PATH: :/usr/local/cuda-11.8/lib64\n",
      "2022-10-05 13:14:06.556532: W tensorflow/stream_executor/platform/default/dso_loader.cc:64] Could not load dynamic library 'libnvinfer_plugin.so.7'; dlerror: libnvinfer_plugin.so.7: cannot open shared object file: No such file or directory; LD_LIBRARY_PATH: :/usr/local/cuda-11.8/lib64\n",
      "2022-10-05 13:14:06.556536: W tensorflow/compiler/tf2tensorrt/utils/py_utils.cc:38] TF-TRT Warning: Cannot dlopen some TensorRT libraries. If you would like to use Nvidia GPU with TensorRT, please make sure the missing libraries mentioned above are installed properly.\n"
     ]
    },
    {
     "data": {
      "text/plain": [
       "'x'"
      ]
     },
     "metadata": {},
     "output_type": "display_data"
    },
    {
     "data": {
      "text/plain": [
       "[[[0.0], [0.1], [0.2], [0.3]],\n",
       " [[0.1], [0.2], [0.3], [0.4]],\n",
       " [[0.2], [0.3], [0.4], [0.5]],\n",
       " [[0.3], [0.4], [0.5], [0.6]],\n",
       " [[0.4], [0.5], [0.6], [0.7]]]"
      ]
     },
     "metadata": {},
     "output_type": "display_data"
    },
    {
     "data": {
      "text/plain": [
       "'y'"
      ]
     },
     "metadata": {},
     "output_type": "display_data"
    },
    {
     "data": {
      "text/plain": [
       "[[0.4], [0.5], [0.6], [0.7], [0.8]]"
      ]
     },
     "metadata": {},
     "output_type": "display_data"
    }
   ],
   "source": [
    "import tensorflow as tf\n",
    "import numpy as np\n",
    "\n",
    "step_size = 4\n",
    "batch_size = 5\n",
    "\n",
    "x = [ [[i/10] for i in range(j, j+step_size)] for j in range(batch_size)]\n",
    "y = [[ (i+step_size) /10] for i in range(batch_size)]\n",
    "display(\"x\", x, \"y\",y)"
   ]
  },
  {
   "cell_type": "markdown",
   "metadata": {},
   "source": [
    "#### RNN을 이용한 다음 수 예측 실습"
   ]
  },
  {
   "cell_type": "code",
   "execution_count": 2,
   "metadata": {},
   "outputs": [
    {
     "name": "stdout",
     "output_type": "stream",
     "text": [
      "Model: \"sequential\"\n",
      "_________________________________________________________________\n",
      " Layer (type)                Output Shape              Param #   \n",
      "=================================================================\n",
      " simple_rnn (SimpleRNN)      (None, 10)                120       \n",
      "                                                                 \n",
      " dense (Dense)               (None, 1)                 11        \n",
      "                                                                 \n",
      "=================================================================\n",
      "Total params: 131\n",
      "Trainable params: 131\n",
      "Non-trainable params: 0\n",
      "_________________________________________________________________\n"
     ]
    },
    {
     "name": "stderr",
     "output_type": "stream",
     "text": [
      "2022-10-05 13:14:07.169452: E tensorflow/stream_executor/cuda/cuda_driver.cc:265] failed call to cuInit: CUDA_ERROR_UNKNOWN: unknown error\n",
      "2022-10-05 13:14:07.169477: I tensorflow/stream_executor/cuda/cuda_diagnostics.cc:169] retrieving CUDA diagnostic information for host: lsg-82fg\n",
      "2022-10-05 13:14:07.169481: I tensorflow/stream_executor/cuda/cuda_diagnostics.cc:176] hostname: lsg-82fg\n",
      "2022-10-05 13:14:07.169565: I tensorflow/stream_executor/cuda/cuda_diagnostics.cc:200] libcuda reported version is: 520.61.5\n",
      "2022-10-05 13:14:07.169577: I tensorflow/stream_executor/cuda/cuda_diagnostics.cc:204] kernel reported version is: 520.61.5\n",
      "2022-10-05 13:14:07.169580: I tensorflow/stream_executor/cuda/cuda_diagnostics.cc:310] kernel version seems to match DSO: 520.61.5\n",
      "2022-10-05 13:14:07.169931: I tensorflow/core/platform/cpu_feature_guard.cc:193] This TensorFlow binary is optimized with oneAPI Deep Neural Network Library (oneDNN) to use the following CPU instructions in performance-critical operations:  AVX2 AVX512F AVX512_VNNI FMA\n",
      "To enable them in other operations, rebuild TensorFlow with the appropriate compiler flags.\n"
     ]
    },
    {
     "name": "stdout",
     "output_type": "stream",
     "text": [
      "1/1 [==============================] - 0s 114ms/step\n",
      "prediction: [0.40112707 0.49916562 0.59880775 0.69989085 0.8010329 ]\n"
     ]
    }
   ],
   "source": [
    "element_size = 1\n",
    "model = tf.keras.Sequential([\n",
    "    tf.keras.layers.SimpleRNN(10, input_shape=[step_size, element_size]),\n",
    "    tf.keras.layers.Dense(element_size)\n",
    "])\n",
    "model.summary()\n",
    "model.compile(optimizer='adam', loss='mse')\n",
    "\n",
    "model.fit(x, y, epochs=1000, verbose=0)\n",
    "pred = model.predict(x)\n",
    "print(f'prediction: {tf.squeeze(pred)}')"
   ]
  },
  {
   "cell_type": "markdown",
   "metadata": {},
   "source": [
    "### Vanila RNN 실습2, Many to Many"
   ]
  },
  {
   "cell_type": "markdown",
   "metadata": {},
   "source": [
    "#### 입출력 데이타 준비"
   ]
  },
  {
   "cell_type": "code",
   "execution_count": 4,
   "metadata": {
    "scrolled": true
   },
   "outputs": [
    {
     "name": "stdout",
     "output_type": "stream",
     "text": [
      "tf.Tensor(\n",
      "[[22. 28.]\n",
      " [49. 64.]], shape=(2, 2), dtype=float32)\n"
     ]
    },
    {
     "data": {
      "text/plain": [
       "'x'"
      ]
     },
     "metadata": {},
     "output_type": "display_data"
    },
    {
     "data": {
      "text/plain": [
       "[[[0.0], [0.1], [0.2], [0.3]],\n",
       " [[0.1], [0.2], [0.3], [0.4]],\n",
       " [[0.2], [0.3], [0.4], [0.5]],\n",
       " [[0.3], [0.4], [0.5], [0.6]],\n",
       " [[0.4], [0.5], [0.6], [0.7]]]"
      ]
     },
     "metadata": {},
     "output_type": "display_data"
    },
    {
     "data": {
      "text/plain": [
       "'y'"
      ]
     },
     "metadata": {},
     "output_type": "display_data"
    },
    {
     "data": {
      "text/plain": [
       "[[[0.1], [0.2], [0.3], [0.4]],\n",
       " [[0.2], [0.3], [0.4], [0.5]],\n",
       " [[0.3], [0.4], [0.5], [0.6]],\n",
       " [[0.4], [0.5], [0.6], [0.7]],\n",
       " [[0.5], [0.6], [0.7], [0.8]]]"
      ]
     },
     "metadata": {},
     "output_type": "display_data"
    }
   ],
   "source": [
    "import os\n",
    "os.environ['TF_CPP_MIN_LOG_LEVEL'] = '3' \n",
    "import tensorflow as tf\n",
    "import time\n",
    "\n",
    "gpus = tf.config.experimental.list_physical_devices('GPU')\n",
    "if gpus:  # gpu가 있다면, 용량 한도를 5GB로 설정\n",
    "  tf.config.experimental.set_virtual_device_configuration(gpus[0], \n",
    "        [tf.config.experimental.VirtualDeviceConfiguration(memory_limit=5*1024)])\n",
    "        \n",
    "a = tf.constant([[1.0, 2.0, 3.0], [4.0, 5.0, 6.0]])\n",
    "b = tf.constant([[1.0, 2.0], [3.0, 4.0], [5.0, 6.0]])\n",
    "\n",
    "c = tf.matmul(a, b)\n",
    "print(c)\n",
    "time.sleep(10)\n",
    "import tensorflow as tf\n",
    "import numpy as np\n",
    "\n",
    "step_size = 4\n",
    "batch_size = 5\n",
    "\n",
    "x = [ [[i/10] for i in range(j, j+step_size)] for j in range(batch_size)]\n",
    "y = [ [[i/10] for i in range(j+1, j+step_size+1)] for j in range(batch_size)]\n",
    "display(\"x\", x, \"y\",y)"
   ]
  },
  {
   "cell_type": "code",
   "execution_count": 5,
   "metadata": {},
   "outputs": [
    {
     "name": "stdout",
     "output_type": "stream",
     "text": [
      "Model: \"sequential_1\"\n",
      "_________________________________________________________________\n",
      " Layer (type)                Output Shape              Param #   \n",
      "=================================================================\n",
      " simple_rnn_1 (SimpleRNN)    (None, 4, 10)             120       \n",
      "                                                                 \n",
      " dense_1 (Dense)             (None, 4, 1)              11        \n",
      "                                                                 \n",
      "=================================================================\n",
      "Total params: 131\n",
      "Trainable params: 131\n",
      "Non-trainable params: 0\n",
      "_________________________________________________________________\n",
      "1/1 [==============================] - 0s 92ms/step\n",
      "prediction: [[0.29076454 0.19477543 0.27296087 0.3572217 ]\n",
      " [0.29889733 0.30551872 0.41224083 0.524424  ]\n",
      " [0.3063929  0.41086856 0.52690285 0.64222926]\n",
      " [0.312501   0.50778234 0.6107118  0.7178371 ]\n",
      " [0.31654477 0.5944124  0.66458094 0.7634148 ]]\n"
     ]
    }
   ],
   "source": [
    "model = tf.keras.Sequential([\n",
    "    tf.keras.layers.SimpleRNN(10, input_shape=[step_size, element_size], return_sequences=True), # return_sequences 는 hidden의 값을 출력해줌\n",
    "    tf.keras.layers.Dense(element_size)\n",
    "])\n",
    "model.summary()\n",
    "model.compile(optimizer='adam', loss='mse')\n",
    "\n",
    "model.fit(x, y, epochs=1000, verbose=0)\n",
    "pred = model.predict(x)\n",
    "print(f'prediction: {tf.squeeze(pred)}')"
   ]
  },
  {
   "cell_type": "markdown",
   "metadata": {},
   "source": [
    "### 회귀 문제 ,  주식 가격 예측\n",
    "#### Data Preparing"
   ]
  },
  {
   "cell_type": "code",
   "execution_count": 6,
   "metadata": {},
   "outputs": [
    {
     "data": {
      "text/html": [
       "<div>\n",
       "<style scoped>\n",
       "    .dataframe tbody tr th:only-of-type {\n",
       "        vertical-align: middle;\n",
       "    }\n",
       "\n",
       "    .dataframe tbody tr th {\n",
       "        vertical-align: top;\n",
       "    }\n",
       "\n",
       "    .dataframe thead th {\n",
       "        text-align: right;\n",
       "    }\n",
       "</style>\n",
       "<table border=\"1\" class=\"dataframe\">\n",
       "  <thead>\n",
       "    <tr style=\"text-align: right;\">\n",
       "      <th></th>\n",
       "      <th># Open</th>\n",
       "      <th>High</th>\n",
       "      <th>Low</th>\n",
       "      <th>Volume</th>\n",
       "      <th>Close</th>\n",
       "    </tr>\n",
       "  </thead>\n",
       "  <tbody>\n",
       "    <tr>\n",
       "      <th>0</th>\n",
       "      <td>828.659973</td>\n",
       "      <td>833.450012</td>\n",
       "      <td>828.349976</td>\n",
       "      <td>1247700</td>\n",
       "      <td>831.659973</td>\n",
       "    </tr>\n",
       "    <tr>\n",
       "      <th>1</th>\n",
       "      <td>823.020020</td>\n",
       "      <td>828.070007</td>\n",
       "      <td>821.655029</td>\n",
       "      <td>1597800</td>\n",
       "      <td>828.070007</td>\n",
       "    </tr>\n",
       "    <tr>\n",
       "      <th>2</th>\n",
       "      <td>819.929993</td>\n",
       "      <td>824.400024</td>\n",
       "      <td>818.979980</td>\n",
       "      <td>1281700</td>\n",
       "      <td>824.159973</td>\n",
       "    </tr>\n",
       "    <tr>\n",
       "      <th>3</th>\n",
       "      <td>819.359985</td>\n",
       "      <td>823.000000</td>\n",
       "      <td>818.469971</td>\n",
       "      <td>1304000</td>\n",
       "      <td>818.979980</td>\n",
       "    </tr>\n",
       "    <tr>\n",
       "      <th>4</th>\n",
       "      <td>819.000000</td>\n",
       "      <td>823.000000</td>\n",
       "      <td>816.000000</td>\n",
       "      <td>1053600</td>\n",
       "      <td>820.450012</td>\n",
       "    </tr>\n",
       "    <tr>\n",
       "      <th>...</th>\n",
       "      <td>...</td>\n",
       "      <td>...</td>\n",
       "      <td>...</td>\n",
       "      <td>...</td>\n",
       "      <td>...</td>\n",
       "    </tr>\n",
       "    <tr>\n",
       "      <th>727</th>\n",
       "      <td>599.992707</td>\n",
       "      <td>604.832763</td>\n",
       "      <td>562.192568</td>\n",
       "      <td>147100</td>\n",
       "      <td>567.002574</td>\n",
       "    </tr>\n",
       "    <tr>\n",
       "      <th>728</th>\n",
       "      <td>558.712504</td>\n",
       "      <td>568.452595</td>\n",
       "      <td>558.712504</td>\n",
       "      <td>7900</td>\n",
       "      <td>567.162558</td>\n",
       "    </tr>\n",
       "    <tr>\n",
       "      <th>729</th>\n",
       "      <td>566.892592</td>\n",
       "      <td>567.002574</td>\n",
       "      <td>556.932537</td>\n",
       "      <td>10800</td>\n",
       "      <td>556.972503</td>\n",
       "    </tr>\n",
       "    <tr>\n",
       "      <th>730</th>\n",
       "      <td>561.202549</td>\n",
       "      <td>566.432590</td>\n",
       "      <td>558.672539</td>\n",
       "      <td>41200</td>\n",
       "      <td>559.992565</td>\n",
       "    </tr>\n",
       "    <tr>\n",
       "      <th>731</th>\n",
       "      <td>568.002570</td>\n",
       "      <td>568.002570</td>\n",
       "      <td>552.922516</td>\n",
       "      <td>13100</td>\n",
       "      <td>558.462551</td>\n",
       "    </tr>\n",
       "  </tbody>\n",
       "</table>\n",
       "<p>732 rows × 5 columns</p>\n",
       "</div>"
      ],
      "text/plain": [
       "         # Open        High         Low   Volume       Close\n",
       "0    828.659973  833.450012  828.349976  1247700  831.659973\n",
       "1    823.020020  828.070007  821.655029  1597800  828.070007\n",
       "2    819.929993  824.400024  818.979980  1281700  824.159973\n",
       "3    819.359985  823.000000  818.469971  1304000  818.979980\n",
       "4    819.000000  823.000000  816.000000  1053600  820.450012\n",
       "..          ...         ...         ...      ...         ...\n",
       "727  599.992707  604.832763  562.192568   147100  567.002574\n",
       "728  558.712504  568.452595  558.712504     7900  567.162558\n",
       "729  566.892592  567.002574  556.932537    10800  556.972503\n",
       "730  561.202549  566.432590  558.672539    41200  559.992565\n",
       "731  568.002570  568.002570  552.922516    13100  558.462551\n",
       "\n",
       "[732 rows x 5 columns]"
      ]
     },
     "metadata": {},
     "output_type": "display_data"
    },
    {
     "data": {
      "text/plain": [
       "((507, 7, 5), (218, 7, 5), (507,), (218,))"
      ]
     },
     "execution_count": 6,
     "metadata": {},
     "output_type": "execute_result"
    }
   ],
   "source": [
    "import numpy as np\n",
    "import tensorflow  as tf\n",
    "import matplotlib.pyplot as plt\n",
    "import pandas as pd\n",
    "from sklearn.model_selection import train_test_split\n",
    "from sklearn.preprocessing import MinMaxScaler\n",
    "\n",
    "file_path = 'stock.csv'\n",
    "tf.random.set_seed(0)\n",
    "seq_length = 7 # train with 7days features for next day close price\n",
    "data_dim = 5 # 5 features\n",
    "\n",
    "\n",
    "df = pd.read_csv(file_path, header=1)\n",
    "display(df)\n",
    "values = df.values\n",
    "values = values[::-1]  # resverse because the data is fliped  \n",
    "\n",
    "scaler = MinMaxScaler() # normalize\n",
    "values_scaled = scaler.fit_transform(values)\n",
    "X = []\n",
    "y = []\n",
    "\n",
    "for i in range(0, len(values) - seq_length):\n",
    "    start, end = i, i+seq_length\n",
    "    X.append(values_scaled[start: end]) # 5 features data of 7 days for input\n",
    "    y.append(values_scaled[end, -1])    # 8th close price\n",
    "X = np.array(X)\n",
    "y = np.array(y)\n",
    "    \n",
    "X_train, X_test, y_train, y_test = train_test_split(X, y, test_size=0.3, shuffle=False, random_state=0)    \n",
    "X_train.shape, X_test.shape, y_train.shape, y_test.shape"
   ]
  },
  {
   "cell_type": "markdown",
   "metadata": {},
   "source": [
    "#### Model 정의"
   ]
  },
  {
   "cell_type": "code",
   "execution_count": 7,
   "metadata": {},
   "outputs": [
    {
     "name": "stdout",
     "output_type": "stream",
     "text": [
      "Model: \"sequential_2\"\n",
      "_________________________________________________________________\n",
      " Layer (type)                Output Shape              Param #   \n",
      "=================================================================\n",
      " lstm (LSTM)                 (None, 50)                11200     \n",
      "                                                                 \n",
      " dropout (Dropout)           (None, 50)                0         \n",
      "                                                                 \n",
      " dense_2 (Dense)             (None, 1)                 51        \n",
      "                                                                 \n",
      "=================================================================\n",
      "Total params: 11,251\n",
      "Trainable params: 11,251\n",
      "Non-trainable params: 0\n",
      "_________________________________________________________________\n"
     ]
    }
   ],
   "source": [
    "model = tf.keras.models.Sequential()\n",
    "model.add(tf.keras.layers.LSTM(50, input_shape=(seq_length, data_dim), return_sequences=False))\n",
    "model.add(tf.keras.layers.Dropout(0.3))\n",
    "model.add(tf.keras.layers.Dense(1))\n",
    "\n",
    "model.compile(loss='mse', optimizer='adam', metrics=['mae'])\n",
    "model.summary()"
   ]
  },
  {
   "cell_type": "markdown",
   "metadata": {},
   "source": [
    "#### Model Training"
   ]
  },
  {
   "cell_type": "code",
   "execution_count": 8,
   "metadata": {
    "scrolled": true
   },
   "outputs": [
    {
     "name": "stdout",
     "output_type": "stream",
     "text": [
      "(507, 7, 5) (507,)\n",
      "Epoch 1/200\n",
      "41/41 - 1s - loss: 0.0205 - mae: 0.1018 - val_loss: 0.0325 - val_mae: 0.1719 - 1s/epoch - 31ms/step\n",
      "Epoch 2/200\n",
      "41/41 - 0s - loss: 0.0051 - mae: 0.0522 - val_loss: 0.0032 - val_mae: 0.0412 - 101ms/epoch - 2ms/step\n",
      "Epoch 3/200\n",
      "41/41 - 0s - loss: 0.0043 - mae: 0.0493 - val_loss: 0.0093 - val_mae: 0.0787 - 101ms/epoch - 2ms/step\n",
      "Epoch 4/200\n",
      "41/41 - 0s - loss: 0.0036 - mae: 0.0428 - val_loss: 0.0029 - val_mae: 0.0400 - 100ms/epoch - 2ms/step\n",
      "Epoch 5/200\n",
      "41/41 - 0s - loss: 0.0043 - mae: 0.0459 - val_loss: 0.0040 - val_mae: 0.0467 - 104ms/epoch - 3ms/step\n",
      "Epoch 6/200\n",
      "41/41 - 0s - loss: 0.0031 - mae: 0.0403 - val_loss: 0.0031 - val_mae: 0.0411 - 100ms/epoch - 2ms/step\n",
      "Epoch 7/200\n",
      "41/41 - 0s - loss: 0.0031 - mae: 0.0397 - val_loss: 0.0039 - val_mae: 0.0466 - 101ms/epoch - 2ms/step\n",
      "Epoch 8/200\n",
      "41/41 - 0s - loss: 0.0031 - mae: 0.0378 - val_loss: 0.0026 - val_mae: 0.0382 - 100ms/epoch - 2ms/step\n",
      "Epoch 9/200\n",
      "41/41 - 0s - loss: 0.0023 - mae: 0.0358 - val_loss: 0.0024 - val_mae: 0.0356 - 100ms/epoch - 2ms/step\n",
      "Epoch 10/200\n",
      "41/41 - 0s - loss: 0.0027 - mae: 0.0372 - val_loss: 0.0027 - val_mae: 0.0410 - 96ms/epoch - 2ms/step\n",
      "Epoch 11/200\n",
      "41/41 - 0s - loss: 0.0024 - mae: 0.0341 - val_loss: 0.0023 - val_mae: 0.0351 - 102ms/epoch - 2ms/step\n",
      "Epoch 12/200\n",
      "41/41 - 0s - loss: 0.0024 - mae: 0.0336 - val_loss: 0.0056 - val_mae: 0.0597 - 102ms/epoch - 2ms/step\n",
      "Epoch 13/200\n",
      "41/41 - 0s - loss: 0.0024 - mae: 0.0349 - val_loss: 0.0022 - val_mae: 0.0334 - 99ms/epoch - 2ms/step\n",
      "Epoch 14/200\n",
      "41/41 - 0s - loss: 0.0023 - mae: 0.0340 - val_loss: 0.0023 - val_mae: 0.0347 - 97ms/epoch - 2ms/step\n",
      "Epoch 15/200\n",
      "41/41 - 0s - loss: 0.0026 - mae: 0.0353 - val_loss: 0.0025 - val_mae: 0.0366 - 96ms/epoch - 2ms/step\n",
      "Epoch 16/200\n",
      "41/41 - 0s - loss: 0.0021 - mae: 0.0330 - val_loss: 0.0020 - val_mae: 0.0329 - 96ms/epoch - 2ms/step\n",
      "Epoch 17/200\n",
      "41/41 - 0s - loss: 0.0023 - mae: 0.0339 - val_loss: 0.0020 - val_mae: 0.0341 - 99ms/epoch - 2ms/step\n",
      "Epoch 18/200\n",
      "41/41 - 0s - loss: 0.0021 - mae: 0.0328 - val_loss: 0.0023 - val_mae: 0.0349 - 98ms/epoch - 2ms/step\n",
      "Epoch 19/200\n",
      "41/41 - 0s - loss: 0.0022 - mae: 0.0325 - val_loss: 0.0020 - val_mae: 0.0340 - 101ms/epoch - 2ms/step\n",
      "Epoch 20/200\n",
      "41/41 - 0s - loss: 0.0021 - mae: 0.0315 - val_loss: 0.0044 - val_mae: 0.0587 - 107ms/epoch - 3ms/step\n",
      "Epoch 21/200\n",
      "41/41 - 0s - loss: 0.0025 - mae: 0.0351 - val_loss: 0.0019 - val_mae: 0.0313 - 113ms/epoch - 3ms/step\n",
      "Epoch 22/200\n",
      "41/41 - 0s - loss: 0.0020 - mae: 0.0313 - val_loss: 0.0020 - val_mae: 0.0334 - 106ms/epoch - 3ms/step\n",
      "Epoch 23/200\n",
      "41/41 - 0s - loss: 0.0021 - mae: 0.0318 - val_loss: 0.0019 - val_mae: 0.0308 - 100ms/epoch - 2ms/step\n",
      "Epoch 24/200\n",
      "41/41 - 0s - loss: 0.0019 - mae: 0.0304 - val_loss: 0.0023 - val_mae: 0.0347 - 99ms/epoch - 2ms/step\n",
      "Epoch 25/200\n",
      "41/41 - 0s - loss: 0.0018 - mae: 0.0314 - val_loss: 0.0019 - val_mae: 0.0317 - 105ms/epoch - 3ms/step\n",
      "Epoch 26/200\n",
      "41/41 - 0s - loss: 0.0019 - mae: 0.0319 - val_loss: 0.0018 - val_mae: 0.0303 - 99ms/epoch - 2ms/step\n",
      "Epoch 27/200\n",
      "41/41 - 0s - loss: 0.0020 - mae: 0.0324 - val_loss: 0.0019 - val_mae: 0.0318 - 97ms/epoch - 2ms/step\n",
      "Epoch 28/200\n",
      "41/41 - 0s - loss: 0.0019 - mae: 0.0311 - val_loss: 0.0029 - val_mae: 0.0405 - 98ms/epoch - 2ms/step\n",
      "Epoch 29/200\n",
      "41/41 - 0s - loss: 0.0019 - mae: 0.0313 - val_loss: 0.0018 - val_mae: 0.0299 - 98ms/epoch - 2ms/step\n",
      "Epoch 30/200\n",
      "41/41 - 0s - loss: 0.0018 - mae: 0.0301 - val_loss: 0.0019 - val_mae: 0.0321 - 99ms/epoch - 2ms/step\n",
      "Epoch 31/200\n",
      "41/41 - 0s - loss: 0.0018 - mae: 0.0303 - val_loss: 0.0025 - val_mae: 0.0413 - 98ms/epoch - 2ms/step\n",
      "Epoch 32/200\n",
      "41/41 - 0s - loss: 0.0020 - mae: 0.0330 - val_loss: 0.0017 - val_mae: 0.0289 - 98ms/epoch - 2ms/step\n",
      "Epoch 33/200\n",
      "41/41 - 0s - loss: 0.0018 - mae: 0.0292 - val_loss: 0.0027 - val_mae: 0.0438 - 100ms/epoch - 2ms/step\n",
      "Epoch 34/200\n",
      "41/41 - 0s - loss: 0.0017 - mae: 0.0287 - val_loss: 0.0017 - val_mae: 0.0311 - 98ms/epoch - 2ms/step\n",
      "Epoch 35/200\n",
      "41/41 - 0s - loss: 0.0017 - mae: 0.0292 - val_loss: 0.0017 - val_mae: 0.0291 - 99ms/epoch - 2ms/step\n",
      "Epoch 36/200\n",
      "41/41 - 0s - loss: 0.0017 - mae: 0.0288 - val_loss: 0.0019 - val_mae: 0.0340 - 98ms/epoch - 2ms/step\n",
      "Epoch 37/200\n",
      "41/41 - 0s - loss: 0.0017 - mae: 0.0284 - val_loss: 0.0035 - val_mae: 0.0512 - 99ms/epoch - 2ms/step\n",
      "Epoch 38/200\n",
      "41/41 - 0s - loss: 0.0017 - mae: 0.0285 - val_loss: 0.0028 - val_mae: 0.0446 - 99ms/epoch - 2ms/step\n",
      "Epoch 39/200\n",
      "41/41 - 0s - loss: 0.0015 - mae: 0.0272 - val_loss: 0.0030 - val_mae: 0.0431 - 99ms/epoch - 2ms/step\n",
      "Epoch 40/200\n",
      "41/41 - 0s - loss: 0.0017 - mae: 0.0295 - val_loss: 0.0018 - val_mae: 0.0333 - 99ms/epoch - 2ms/step\n",
      "Epoch 41/200\n",
      "41/41 - 0s - loss: 0.0018 - mae: 0.0307 - val_loss: 0.0016 - val_mae: 0.0290 - 99ms/epoch - 2ms/step\n",
      "Epoch 42/200\n",
      "41/41 - 0s - loss: 0.0016 - mae: 0.0275 - val_loss: 0.0015 - val_mae: 0.0281 - 99ms/epoch - 2ms/step\n",
      "Epoch 43/200\n",
      "41/41 - 0s - loss: 0.0017 - mae: 0.0274 - val_loss: 0.0016 - val_mae: 0.0288 - 99ms/epoch - 2ms/step\n",
      "Epoch 44/200\n",
      "41/41 - 0s - loss: 0.0015 - mae: 0.0268 - val_loss: 0.0015 - val_mae: 0.0285 - 98ms/epoch - 2ms/step\n",
      "Epoch 45/200\n",
      "41/41 - 0s - loss: 0.0014 - mae: 0.0273 - val_loss: 0.0017 - val_mae: 0.0304 - 102ms/epoch - 2ms/step\n",
      "Epoch 46/200\n",
      "41/41 - 0s - loss: 0.0016 - mae: 0.0280 - val_loss: 0.0016 - val_mae: 0.0302 - 99ms/epoch - 2ms/step\n",
      "Epoch 47/200\n",
      "41/41 - 0s - loss: 0.0014 - mae: 0.0263 - val_loss: 0.0021 - val_mae: 0.0373 - 99ms/epoch - 2ms/step\n",
      "Epoch 48/200\n",
      "41/41 - 0s - loss: 0.0016 - mae: 0.0268 - val_loss: 0.0015 - val_mae: 0.0296 - 99ms/epoch - 2ms/step\n",
      "Epoch 49/200\n",
      "41/41 - 0s - loss: 0.0014 - mae: 0.0262 - val_loss: 0.0019 - val_mae: 0.0351 - 100ms/epoch - 2ms/step\n",
      "Epoch 50/200\n",
      "41/41 - 0s - loss: 0.0016 - mae: 0.0270 - val_loss: 0.0015 - val_mae: 0.0274 - 100ms/epoch - 2ms/step\n",
      "Epoch 51/200\n",
      "41/41 - 0s - loss: 0.0017 - mae: 0.0285 - val_loss: 0.0015 - val_mae: 0.0281 - 99ms/epoch - 2ms/step\n",
      "Epoch 52/200\n",
      "41/41 - 0s - loss: 0.0014 - mae: 0.0269 - val_loss: 0.0014 - val_mae: 0.0275 - 100ms/epoch - 2ms/step\n",
      "Epoch 53/200\n",
      "41/41 - 0s - loss: 0.0016 - mae: 0.0278 - val_loss: 0.0014 - val_mae: 0.0273 - 99ms/epoch - 2ms/step\n",
      "Epoch 54/200\n",
      "41/41 - 0s - loss: 0.0014 - mae: 0.0261 - val_loss: 0.0015 - val_mae: 0.0297 - 100ms/epoch - 2ms/step\n",
      "Epoch 55/200\n",
      "41/41 - 0s - loss: 0.0015 - mae: 0.0263 - val_loss: 0.0015 - val_mae: 0.0276 - 100ms/epoch - 2ms/step\n",
      "Epoch 56/200\n",
      "41/41 - 0s - loss: 0.0016 - mae: 0.0270 - val_loss: 0.0015 - val_mae: 0.0296 - 99ms/epoch - 2ms/step\n",
      "Epoch 57/200\n",
      "41/41 - 0s - loss: 0.0013 - mae: 0.0257 - val_loss: 0.0015 - val_mae: 0.0290 - 105ms/epoch - 3ms/step\n",
      "Epoch 58/200\n",
      "41/41 - 0s - loss: 0.0014 - mae: 0.0257 - val_loss: 0.0014 - val_mae: 0.0271 - 103ms/epoch - 3ms/step\n",
      "Epoch 59/200\n",
      "41/41 - 0s - loss: 0.0014 - mae: 0.0258 - val_loss: 0.0015 - val_mae: 0.0286 - 107ms/epoch - 3ms/step\n",
      "Epoch 60/200\n",
      "41/41 - 0s - loss: 0.0015 - mae: 0.0257 - val_loss: 0.0015 - val_mae: 0.0287 - 112ms/epoch - 3ms/step\n",
      "Epoch 61/200\n",
      "41/41 - 0s - loss: 0.0014 - mae: 0.0261 - val_loss: 0.0014 - val_mae: 0.0274 - 104ms/epoch - 3ms/step\n",
      "Epoch 62/200\n",
      "41/41 - 0s - loss: 0.0014 - mae: 0.0257 - val_loss: 0.0014 - val_mae: 0.0280 - 99ms/epoch - 2ms/step\n",
      "Epoch 63/200\n",
      "41/41 - 0s - loss: 0.0014 - mae: 0.0262 - val_loss: 0.0015 - val_mae: 0.0287 - 102ms/epoch - 2ms/step\n",
      "Epoch 64/200\n",
      "41/41 - 0s - loss: 0.0013 - mae: 0.0259 - val_loss: 0.0014 - val_mae: 0.0275 - 116ms/epoch - 3ms/step\n",
      "Epoch 65/200\n",
      "41/41 - 0s - loss: 0.0012 - mae: 0.0244 - val_loss: 0.0014 - val_mae: 0.0275 - 116ms/epoch - 3ms/step\n",
      "Epoch 66/200\n",
      "41/41 - 0s - loss: 0.0012 - mae: 0.0248 - val_loss: 0.0016 - val_mae: 0.0321 - 110ms/epoch - 3ms/step\n",
      "Epoch 67/200\n",
      "41/41 - 0s - loss: 0.0013 - mae: 0.0243 - val_loss: 0.0018 - val_mae: 0.0318 - 104ms/epoch - 3ms/step\n",
      "Epoch 68/200\n",
      "41/41 - 0s - loss: 0.0013 - mae: 0.0251 - val_loss: 0.0013 - val_mae: 0.0266 - 119ms/epoch - 3ms/step\n",
      "Epoch 69/200\n",
      "41/41 - 0s - loss: 0.0013 - mae: 0.0252 - val_loss: 0.0013 - val_mae: 0.0269 - 118ms/epoch - 3ms/step\n",
      "Epoch 70/200\n",
      "41/41 - 0s - loss: 0.0013 - mae: 0.0248 - val_loss: 0.0015 - val_mae: 0.0306 - 108ms/epoch - 3ms/step\n",
      "Epoch 71/200\n",
      "41/41 - 0s - loss: 0.0013 - mae: 0.0244 - val_loss: 0.0013 - val_mae: 0.0262 - 109ms/epoch - 3ms/step\n",
      "Epoch 72/200\n",
      "41/41 - 0s - loss: 0.0013 - mae: 0.0250 - val_loss: 0.0016 - val_mae: 0.0298 - 112ms/epoch - 3ms/step\n"
     ]
    },
    {
     "name": "stdout",
     "output_type": "stream",
     "text": [
      "Epoch 73/200\n",
      "41/41 - 0s - loss: 0.0013 - mae: 0.0249 - val_loss: 0.0013 - val_mae: 0.0271 - 112ms/epoch - 3ms/step\n",
      "Epoch 74/200\n",
      "41/41 - 0s - loss: 0.0013 - mae: 0.0250 - val_loss: 0.0012 - val_mae: 0.0265 - 109ms/epoch - 3ms/step\n",
      "Epoch 75/200\n",
      "41/41 - 0s - loss: 0.0013 - mae: 0.0244 - val_loss: 0.0014 - val_mae: 0.0288 - 98ms/epoch - 2ms/step\n",
      "Epoch 76/200\n",
      "41/41 - 0s - loss: 0.0014 - mae: 0.0254 - val_loss: 0.0014 - val_mae: 0.0283 - 99ms/epoch - 2ms/step\n",
      "Epoch 77/200\n",
      "41/41 - 0s - loss: 0.0013 - mae: 0.0248 - val_loss: 0.0025 - val_mae: 0.0393 - 115ms/epoch - 3ms/step\n",
      "Epoch 78/200\n",
      "41/41 - 0s - loss: 0.0014 - mae: 0.0257 - val_loss: 0.0012 - val_mae: 0.0261 - 114ms/epoch - 3ms/step\n",
      "Epoch 79/200\n",
      "41/41 - 0s - loss: 0.0013 - mae: 0.0237 - val_loss: 0.0012 - val_mae: 0.0264 - 114ms/epoch - 3ms/step\n",
      "Epoch 80/200\n",
      "41/41 - 0s - loss: 0.0012 - mae: 0.0239 - val_loss: 0.0018 - val_mae: 0.0331 - 109ms/epoch - 3ms/step\n",
      "Epoch 81/200\n",
      "41/41 - 0s - loss: 0.0012 - mae: 0.0241 - val_loss: 0.0013 - val_mae: 0.0282 - 99ms/epoch - 2ms/step\n",
      "Epoch 82/200\n",
      "41/41 - 0s - loss: 0.0012 - mae: 0.0238 - val_loss: 0.0013 - val_mae: 0.0268 - 110ms/epoch - 3ms/step\n",
      "Epoch 83/200\n",
      "41/41 - 0s - loss: 0.0012 - mae: 0.0240 - val_loss: 0.0013 - val_mae: 0.0279 - 105ms/epoch - 3ms/step\n",
      "Epoch 84/200\n",
      "41/41 - 0s - loss: 0.0012 - mae: 0.0243 - val_loss: 0.0012 - val_mae: 0.0260 - 102ms/epoch - 2ms/step\n",
      "Epoch 85/200\n",
      "41/41 - 0s - loss: 0.0012 - mae: 0.0241 - val_loss: 0.0015 - val_mae: 0.0292 - 101ms/epoch - 2ms/step\n",
      "Epoch 86/200\n",
      "41/41 - 0s - loss: 0.0013 - mae: 0.0238 - val_loss: 0.0014 - val_mae: 0.0297 - 102ms/epoch - 2ms/step\n",
      "Epoch 87/200\n",
      "41/41 - 0s - loss: 0.0014 - mae: 0.0257 - val_loss: 0.0023 - val_mae: 0.0376 - 99ms/epoch - 2ms/step\n",
      "Epoch 88/200\n",
      "41/41 - 0s - loss: 0.0013 - mae: 0.0249 - val_loss: 0.0023 - val_mae: 0.0380 - 114ms/epoch - 3ms/step\n",
      "Epoch 89/200\n",
      "41/41 - 0s - loss: 0.0013 - mae: 0.0246 - val_loss: 0.0012 - val_mae: 0.0256 - 110ms/epoch - 3ms/step\n",
      "Epoch 90/200\n",
      "41/41 - 0s - loss: 0.0011 - mae: 0.0238 - val_loss: 0.0013 - val_mae: 0.0272 - 104ms/epoch - 3ms/step\n",
      "Epoch 91/200\n",
      "41/41 - 0s - loss: 0.0011 - mae: 0.0235 - val_loss: 0.0012 - val_mae: 0.0257 - 100ms/epoch - 2ms/step\n",
      "Epoch 92/200\n",
      "41/41 - 0s - loss: 0.0014 - mae: 0.0252 - val_loss: 0.0012 - val_mae: 0.0269 - 100ms/epoch - 2ms/step\n",
      "Epoch 93/200\n",
      "41/41 - 0s - loss: 0.0013 - mae: 0.0250 - val_loss: 0.0015 - val_mae: 0.0294 - 102ms/epoch - 2ms/step\n",
      "Epoch 94/200\n",
      "41/41 - 0s - loss: 0.0013 - mae: 0.0247 - val_loss: 0.0016 - val_mae: 0.0307 - 118ms/epoch - 3ms/step\n",
      "Epoch 95/200\n",
      "41/41 - 0s - loss: 0.0012 - mae: 0.0240 - val_loss: 0.0013 - val_mae: 0.0280 - 112ms/epoch - 3ms/step\n",
      "Epoch 96/200\n",
      "41/41 - 0s - loss: 0.0013 - mae: 0.0244 - val_loss: 0.0013 - val_mae: 0.0283 - 97ms/epoch - 2ms/step\n",
      "Epoch 97/200\n",
      "41/41 - 0s - loss: 0.0013 - mae: 0.0256 - val_loss: 0.0014 - val_mae: 0.0289 - 114ms/epoch - 3ms/step\n",
      "Epoch 98/200\n",
      "41/41 - 0s - loss: 0.0011 - mae: 0.0238 - val_loss: 0.0012 - val_mae: 0.0260 - 118ms/epoch - 3ms/step\n",
      "Epoch 99/200\n",
      "41/41 - 0s - loss: 0.0011 - mae: 0.0238 - val_loss: 0.0014 - val_mae: 0.0308 - 114ms/epoch - 3ms/step\n",
      "Epoch 100/200\n",
      "41/41 - 0s - loss: 0.0012 - mae: 0.0243 - val_loss: 0.0021 - val_mae: 0.0362 - 99ms/epoch - 2ms/step\n",
      "Epoch 101/200\n",
      "41/41 - 0s - loss: 0.0012 - mae: 0.0231 - val_loss: 0.0011 - val_mae: 0.0255 - 100ms/epoch - 2ms/step\n",
      "Epoch 102/200\n",
      "41/41 - 0s - loss: 0.0011 - mae: 0.0235 - val_loss: 0.0014 - val_mae: 0.0296 - 108ms/epoch - 3ms/step\n",
      "Epoch 103/200\n",
      "41/41 - 0s - loss: 0.0011 - mae: 0.0228 - val_loss: 0.0011 - val_mae: 0.0258 - 117ms/epoch - 3ms/step\n",
      "Epoch 104/200\n",
      "41/41 - 0s - loss: 0.0011 - mae: 0.0235 - val_loss: 0.0015 - val_mae: 0.0311 - 121ms/epoch - 3ms/step\n",
      "Epoch 105/200\n",
      "41/41 - 0s - loss: 0.0012 - mae: 0.0244 - val_loss: 0.0012 - val_mae: 0.0267 - 119ms/epoch - 3ms/step\n",
      "Epoch 106/200\n",
      "41/41 - 0s - loss: 0.0013 - mae: 0.0251 - val_loss: 0.0018 - val_mae: 0.0324 - 118ms/epoch - 3ms/step\n",
      "Epoch 107/200\n",
      "41/41 - 0s - loss: 0.0012 - mae: 0.0242 - val_loss: 0.0015 - val_mae: 0.0315 - 121ms/epoch - 3ms/step\n",
      "Epoch 108/200\n",
      "41/41 - 0s - loss: 0.0010 - mae: 0.0230 - val_loss: 0.0013 - val_mae: 0.0282 - 118ms/epoch - 3ms/step\n",
      "Epoch 109/200\n",
      "41/41 - 0s - loss: 0.0012 - mae: 0.0237 - val_loss: 0.0011 - val_mae: 0.0257 - 117ms/epoch - 3ms/step\n",
      "Epoch 110/200\n",
      "41/41 - 0s - loss: 0.0012 - mae: 0.0228 - val_loss: 0.0019 - val_mae: 0.0336 - 118ms/epoch - 3ms/step\n",
      "Epoch 111/200\n",
      "41/41 - 0s - loss: 0.0013 - mae: 0.0248 - val_loss: 0.0011 - val_mae: 0.0256 - 112ms/epoch - 3ms/step\n",
      "Epoch 112/200\n",
      "41/41 - 0s - loss: 0.0010 - mae: 0.0227 - val_loss: 0.0011 - val_mae: 0.0257 - 104ms/epoch - 3ms/step\n",
      "Epoch 113/200\n",
      "41/41 - 0s - loss: 0.0012 - mae: 0.0232 - val_loss: 0.0017 - val_mae: 0.0337 - 100ms/epoch - 2ms/step\n",
      "Epoch 114/200\n",
      "41/41 - 0s - loss: 0.0011 - mae: 0.0224 - val_loss: 0.0022 - val_mae: 0.0373 - 112ms/epoch - 3ms/step\n",
      "Epoch 115/200\n",
      "41/41 - 0s - loss: 0.0011 - mae: 0.0231 - val_loss: 0.0016 - val_mae: 0.0312 - 107ms/epoch - 3ms/step\n",
      "Epoch 116/200\n",
      "41/41 - 0s - loss: 0.0012 - mae: 0.0237 - val_loss: 0.0011 - val_mae: 0.0258 - 116ms/epoch - 3ms/step\n",
      "Epoch 117/200\n",
      "41/41 - 0s - loss: 0.0012 - mae: 0.0222 - val_loss: 0.0015 - val_mae: 0.0303 - 112ms/epoch - 3ms/step\n",
      "Epoch 118/200\n",
      "41/41 - 0s - loss: 0.0011 - mae: 0.0227 - val_loss: 0.0016 - val_mae: 0.0306 - 122ms/epoch - 3ms/step\n",
      "Epoch 119/200\n",
      "41/41 - 0s - loss: 0.0011 - mae: 0.0227 - val_loss: 0.0012 - val_mae: 0.0265 - 116ms/epoch - 3ms/step\n",
      "Epoch 120/200\n",
      "41/41 - 0s - loss: 0.0012 - mae: 0.0235 - val_loss: 0.0019 - val_mae: 0.0346 - 117ms/epoch - 3ms/step\n",
      "Epoch 121/200\n",
      "41/41 - 0s - loss: 0.0012 - mae: 0.0242 - val_loss: 0.0014 - val_mae: 0.0286 - 116ms/epoch - 3ms/step\n",
      "Epoch 122/200\n",
      "41/41 - 0s - loss: 0.0013 - mae: 0.0242 - val_loss: 0.0013 - val_mae: 0.0286 - 122ms/epoch - 3ms/step\n",
      "Epoch 123/200\n",
      "41/41 - 0s - loss: 0.0012 - mae: 0.0230 - val_loss: 0.0011 - val_mae: 0.0264 - 119ms/epoch - 3ms/step\n",
      "Epoch 124/200\n",
      "41/41 - 0s - loss: 0.0012 - mae: 0.0229 - val_loss: 0.0012 - val_mae: 0.0268 - 106ms/epoch - 3ms/step\n",
      "Epoch 125/200\n",
      "41/41 - 0s - loss: 0.0011 - mae: 0.0233 - val_loss: 0.0012 - val_mae: 0.0266 - 114ms/epoch - 3ms/step\n",
      "Epoch 126/200\n",
      "41/41 - 0s - loss: 0.0011 - mae: 0.0228 - val_loss: 0.0011 - val_mae: 0.0257 - 112ms/epoch - 3ms/step\n",
      "Epoch 127/200\n",
      "41/41 - 0s - loss: 0.0012 - mae: 0.0229 - val_loss: 0.0011 - val_mae: 0.0257 - 104ms/epoch - 3ms/step\n",
      "Epoch 128/200\n",
      "41/41 - 0s - loss: 0.0012 - mae: 0.0235 - val_loss: 0.0011 - val_mae: 0.0262 - 103ms/epoch - 3ms/step\n",
      "Epoch 129/200\n",
      "41/41 - 0s - loss: 0.0012 - mae: 0.0241 - val_loss: 0.0011 - val_mae: 0.0257 - 101ms/epoch - 2ms/step\n",
      "Epoch 130/200\n",
      "41/41 - 0s - loss: 0.0011 - mae: 0.0231 - val_loss: 0.0012 - val_mae: 0.0268 - 104ms/epoch - 3ms/step\n",
      "Epoch 131/200\n",
      "41/41 - 0s - loss: 0.0010 - mae: 0.0226 - val_loss: 0.0011 - val_mae: 0.0257 - 103ms/epoch - 3ms/step\n",
      "Epoch 132/200\n",
      "41/41 - 0s - loss: 0.0012 - mae: 0.0228 - val_loss: 0.0011 - val_mae: 0.0253 - 113ms/epoch - 3ms/step\n",
      "Epoch 133/200\n",
      "41/41 - 0s - loss: 0.0011 - mae: 0.0223 - val_loss: 0.0012 - val_mae: 0.0274 - 113ms/epoch - 3ms/step\n",
      "Epoch 134/200\n",
      "41/41 - 0s - loss: 0.0012 - mae: 0.0240 - val_loss: 0.0018 - val_mae: 0.0351 - 102ms/epoch - 2ms/step\n",
      "Epoch 135/200\n",
      "41/41 - 0s - loss: 0.0011 - mae: 0.0239 - val_loss: 0.0015 - val_mae: 0.0314 - 120ms/epoch - 3ms/step\n",
      "Epoch 136/200\n",
      "41/41 - 0s - loss: 0.0011 - mae: 0.0225 - val_loss: 0.0014 - val_mae: 0.0288 - 115ms/epoch - 3ms/step\n",
      "Epoch 137/200\n",
      "41/41 - 0s - loss: 0.0011 - mae: 0.0227 - val_loss: 0.0011 - val_mae: 0.0257 - 104ms/epoch - 3ms/step\n",
      "Epoch 138/200\n",
      "41/41 - 0s - loss: 0.0012 - mae: 0.0235 - val_loss: 0.0011 - val_mae: 0.0257 - 100ms/epoch - 2ms/step\n",
      "Epoch 139/200\n",
      "41/41 - 0s - loss: 0.0011 - mae: 0.0229 - val_loss: 0.0012 - val_mae: 0.0270 - 118ms/epoch - 3ms/step\n",
      "Epoch 140/200\n",
      "41/41 - 0s - loss: 0.0011 - mae: 0.0228 - val_loss: 0.0012 - val_mae: 0.0272 - 118ms/epoch - 3ms/step\n",
      "Epoch 141/200\n",
      "41/41 - 0s - loss: 0.0011 - mae: 0.0221 - val_loss: 0.0013 - val_mae: 0.0282 - 113ms/epoch - 3ms/step\n",
      "Epoch 142/200\n",
      "41/41 - 0s - loss: 0.0011 - mae: 0.0220 - val_loss: 0.0013 - val_mae: 0.0284 - 105ms/epoch - 3ms/step\n",
      "Epoch 143/200\n",
      "41/41 - 0s - loss: 0.0012 - mae: 0.0239 - val_loss: 0.0011 - val_mae: 0.0257 - 106ms/epoch - 3ms/step\n"
     ]
    },
    {
     "name": "stdout",
     "output_type": "stream",
     "text": [
      "Epoch 144/200\n",
      "41/41 - 0s - loss: 0.0011 - mae: 0.0227 - val_loss: 0.0015 - val_mae: 0.0303 - 105ms/epoch - 3ms/step\n",
      "Epoch 145/200\n",
      "41/41 - 0s - loss: 0.0011 - mae: 0.0225 - val_loss: 0.0014 - val_mae: 0.0304 - 101ms/epoch - 2ms/step\n",
      "Epoch 146/200\n",
      "41/41 - 0s - loss: 0.0012 - mae: 0.0222 - val_loss: 0.0012 - val_mae: 0.0272 - 119ms/epoch - 3ms/step\n",
      "Epoch 147/200\n",
      "41/41 - 0s - loss: 0.0011 - mae: 0.0224 - val_loss: 0.0011 - val_mae: 0.0260 - 119ms/epoch - 3ms/step\n",
      "Epoch 148/200\n",
      "41/41 - 0s - loss: 9.9385e-04 - mae: 0.0222 - val_loss: 0.0011 - val_mae: 0.0261 - 113ms/epoch - 3ms/step\n",
      "Epoch 149/200\n",
      "41/41 - 0s - loss: 0.0011 - mae: 0.0228 - val_loss: 0.0013 - val_mae: 0.0282 - 119ms/epoch - 3ms/step\n",
      "Epoch 150/200\n",
      "41/41 - 0s - loss: 0.0011 - mae: 0.0234 - val_loss: 0.0012 - val_mae: 0.0272 - 119ms/epoch - 3ms/step\n",
      "Epoch 151/200\n",
      "41/41 - 0s - loss: 0.0011 - mae: 0.0231 - val_loss: 0.0016 - val_mae: 0.0316 - 118ms/epoch - 3ms/step\n",
      "Epoch 152/200\n",
      "41/41 - 0s - loss: 0.0011 - mae: 0.0222 - val_loss: 0.0014 - val_mae: 0.0290 - 120ms/epoch - 3ms/step\n",
      "Epoch 153/200\n",
      "41/41 - 0s - loss: 0.0011 - mae: 0.0229 - val_loss: 0.0011 - val_mae: 0.0257 - 119ms/epoch - 3ms/step\n",
      "Epoch 154/200\n",
      "41/41 - 0s - loss: 0.0011 - mae: 0.0224 - val_loss: 0.0011 - val_mae: 0.0265 - 119ms/epoch - 3ms/step\n",
      "Epoch 155/200\n",
      "41/41 - 0s - loss: 0.0012 - mae: 0.0228 - val_loss: 0.0011 - val_mae: 0.0254 - 118ms/epoch - 3ms/step\n",
      "Epoch 156/200\n",
      "41/41 - 0s - loss: 0.0012 - mae: 0.0229 - val_loss: 0.0016 - val_mae: 0.0312 - 120ms/epoch - 3ms/step\n",
      "Epoch 157/200\n",
      "41/41 - 0s - loss: 0.0010 - mae: 0.0216 - val_loss: 0.0012 - val_mae: 0.0276 - 120ms/epoch - 3ms/step\n",
      "Epoch 158/200\n",
      "41/41 - 0s - loss: 0.0012 - mae: 0.0240 - val_loss: 0.0011 - val_mae: 0.0255 - 117ms/epoch - 3ms/step\n",
      "Epoch 159/200\n",
      "41/41 - 0s - loss: 0.0011 - mae: 0.0227 - val_loss: 0.0016 - val_mae: 0.0311 - 116ms/epoch - 3ms/step\n",
      "Epoch 160/200\n",
      "41/41 - 0s - loss: 0.0010 - mae: 0.0219 - val_loss: 0.0011 - val_mae: 0.0258 - 119ms/epoch - 3ms/step\n",
      "Epoch 161/200\n",
      "41/41 - 0s - loss: 0.0011 - mae: 0.0225 - val_loss: 0.0012 - val_mae: 0.0270 - 116ms/epoch - 3ms/step\n",
      "Epoch 162/200\n",
      "41/41 - 0s - loss: 0.0010 - mae: 0.0219 - val_loss: 0.0011 - val_mae: 0.0258 - 99ms/epoch - 2ms/step\n",
      "Epoch 163/200\n",
      "41/41 - 0s - loss: 0.0012 - mae: 0.0226 - val_loss: 0.0011 - val_mae: 0.0255 - 100ms/epoch - 2ms/step\n",
      "Epoch 164/200\n",
      "41/41 - 0s - loss: 0.0010 - mae: 0.0222 - val_loss: 0.0012 - val_mae: 0.0265 - 101ms/epoch - 2ms/step\n",
      "Epoch 165/200\n",
      "41/41 - 0s - loss: 0.0011 - mae: 0.0237 - val_loss: 0.0011 - val_mae: 0.0253 - 110ms/epoch - 3ms/step\n",
      "Epoch 166/200\n",
      "41/41 - 0s - loss: 0.0010 - mae: 0.0219 - val_loss: 0.0014 - val_mae: 0.0295 - 118ms/epoch - 3ms/step\n",
      "Epoch 167/200\n",
      "41/41 - 0s - loss: 0.0011 - mae: 0.0225 - val_loss: 0.0011 - val_mae: 0.0262 - 118ms/epoch - 3ms/step\n",
      "Epoch 168/200\n",
      "41/41 - 0s - loss: 0.0011 - mae: 0.0227 - val_loss: 0.0012 - val_mae: 0.0268 - 100ms/epoch - 2ms/step\n",
      "Epoch 169/200\n",
      "41/41 - 0s - loss: 0.0012 - mae: 0.0241 - val_loss: 0.0011 - val_mae: 0.0256 - 123ms/epoch - 3ms/step\n",
      "Epoch 170/200\n",
      "41/41 - 0s - loss: 0.0011 - mae: 0.0219 - val_loss: 0.0015 - val_mae: 0.0310 - 118ms/epoch - 3ms/step\n",
      "Epoch 171/200\n",
      "41/41 - 0s - loss: 0.0011 - mae: 0.0229 - val_loss: 0.0012 - val_mae: 0.0275 - 118ms/epoch - 3ms/step\n",
      "Epoch 172/200\n",
      "41/41 - 0s - loss: 0.0010 - mae: 0.0219 - val_loss: 0.0022 - val_mae: 0.0373 - 111ms/epoch - 3ms/step\n",
      "Epoch 173/200\n",
      "41/41 - 0s - loss: 0.0012 - mae: 0.0247 - val_loss: 0.0012 - val_mae: 0.0280 - 106ms/epoch - 3ms/step\n",
      "Epoch 174/200\n",
      "41/41 - 0s - loss: 0.0010 - mae: 0.0221 - val_loss: 0.0013 - val_mae: 0.0286 - 120ms/epoch - 3ms/step\n",
      "Epoch 175/200\n",
      "41/41 - 0s - loss: 0.0010 - mae: 0.0220 - val_loss: 0.0011 - val_mae: 0.0256 - 120ms/epoch - 3ms/step\n",
      "Epoch 176/200\n",
      "41/41 - 0s - loss: 0.0011 - mae: 0.0228 - val_loss: 0.0021 - val_mae: 0.0379 - 120ms/epoch - 3ms/step\n",
      "Epoch 177/200\n",
      "41/41 - 0s - loss: 0.0012 - mae: 0.0238 - val_loss: 0.0015 - val_mae: 0.0307 - 119ms/epoch - 3ms/step\n",
      "Epoch 178/200\n",
      "41/41 - 0s - loss: 0.0011 - mae: 0.0230 - val_loss: 0.0015 - val_mae: 0.0306 - 120ms/epoch - 3ms/step\n",
      "Epoch 179/200\n",
      "41/41 - 0s - loss: 0.0010 - mae: 0.0223 - val_loss: 0.0019 - val_mae: 0.0360 - 119ms/epoch - 3ms/step\n",
      "Epoch 180/200\n",
      "41/41 - 0s - loss: 0.0010 - mae: 0.0221 - val_loss: 0.0011 - val_mae: 0.0259 - 119ms/epoch - 3ms/step\n",
      "Epoch 181/200\n",
      "41/41 - 0s - loss: 0.0011 - mae: 0.0225 - val_loss: 0.0014 - val_mae: 0.0299 - 117ms/epoch - 3ms/step\n",
      "Epoch 182/200\n",
      "41/41 - 0s - loss: 0.0010 - mae: 0.0219 - val_loss: 0.0014 - val_mae: 0.0293 - 126ms/epoch - 3ms/step\n",
      "Epoch 183/200\n",
      "41/41 - 0s - loss: 0.0010 - mae: 0.0220 - val_loss: 0.0014 - val_mae: 0.0301 - 132ms/epoch - 3ms/step\n",
      "Epoch 184/200\n",
      "41/41 - 0s - loss: 0.0012 - mae: 0.0236 - val_loss: 0.0013 - val_mae: 0.0286 - 106ms/epoch - 3ms/step\n",
      "Epoch 185/200\n",
      "41/41 - 0s - loss: 0.0010 - mae: 0.0214 - val_loss: 0.0017 - val_mae: 0.0324 - 105ms/epoch - 3ms/step\n",
      "Epoch 186/200\n",
      "41/41 - 0s - loss: 0.0011 - mae: 0.0221 - val_loss: 0.0011 - val_mae: 0.0262 - 102ms/epoch - 2ms/step\n",
      "Epoch 187/200\n",
      "41/41 - 0s - loss: 9.9783e-04 - mae: 0.0217 - val_loss: 0.0012 - val_mae: 0.0269 - 104ms/epoch - 3ms/step\n",
      "Epoch 188/200\n",
      "41/41 - 0s - loss: 0.0010 - mae: 0.0217 - val_loss: 0.0011 - val_mae: 0.0267 - 108ms/epoch - 3ms/step\n",
      "Epoch 189/200\n",
      "41/41 - 0s - loss: 0.0011 - mae: 0.0224 - val_loss: 0.0012 - val_mae: 0.0265 - 117ms/epoch - 3ms/step\n",
      "Epoch 190/200\n",
      "41/41 - 0s - loss: 0.0011 - mae: 0.0230 - val_loss: 0.0014 - val_mae: 0.0298 - 111ms/epoch - 3ms/step\n",
      "Epoch 191/200\n",
      "41/41 - 0s - loss: 0.0010 - mae: 0.0227 - val_loss: 0.0012 - val_mae: 0.0274 - 108ms/epoch - 3ms/step\n",
      "Epoch 192/200\n",
      "41/41 - 0s - loss: 0.0011 - mae: 0.0230 - val_loss: 0.0012 - val_mae: 0.0276 - 117ms/epoch - 3ms/step\n",
      "Epoch 193/200\n",
      "41/41 - 0s - loss: 0.0010 - mae: 0.0216 - val_loss: 0.0011 - val_mae: 0.0258 - 114ms/epoch - 3ms/step\n",
      "Epoch 194/200\n",
      "41/41 - 0s - loss: 0.0012 - mae: 0.0228 - val_loss: 0.0012 - val_mae: 0.0267 - 103ms/epoch - 3ms/step\n",
      "Epoch 195/200\n",
      "41/41 - 0s - loss: 0.0010 - mae: 0.0222 - val_loss: 0.0011 - val_mae: 0.0264 - 101ms/epoch - 2ms/step\n",
      "Epoch 196/200\n",
      "41/41 - 0s - loss: 0.0010 - mae: 0.0217 - val_loss: 0.0011 - val_mae: 0.0262 - 110ms/epoch - 3ms/step\n",
      "Epoch 197/200\n",
      "41/41 - 0s - loss: 0.0010 - mae: 0.0217 - val_loss: 0.0014 - val_mae: 0.0293 - 114ms/epoch - 3ms/step\n",
      "Epoch 198/200\n",
      "41/41 - 0s - loss: 0.0011 - mae: 0.0230 - val_loss: 0.0014 - val_mae: 0.0296 - 110ms/epoch - 3ms/step\n",
      "Epoch 199/200\n",
      "41/41 - 0s - loss: 0.0011 - mae: 0.0228 - val_loss: 0.0011 - val_mae: 0.0261 - 108ms/epoch - 3ms/step\n",
      "Epoch 200/200\n",
      "41/41 - 0s - loss: 0.0011 - mae: 0.0217 - val_loss: 0.0011 - val_mae: 0.0266 - 103ms/epoch - 3ms/step\n"
     ]
    }
   ],
   "source": [
    "print(X_train.shape, y_train.shape)\n",
    "history = model.fit(X_train, y_train\n",
    "                    , epochs=200, batch_size=10\n",
    "                    , validation_split=0.2, verbose=2)"
   ]
  },
  {
   "cell_type": "markdown",
   "metadata": {},
   "source": [
    "#### 훈련 결과 시각화"
   ]
  },
  {
   "cell_type": "code",
   "execution_count": 9,
   "metadata": {
    "scrolled": false
   },
   "outputs": [
    {
     "name": "stdout",
     "output_type": "stream",
     "text": [
      "dict_keys(['loss', 'mae', 'val_loss', 'val_mae'])\n"
     ]
    },
    {
     "data": {
      "text/plain": [
       "<matplotlib.legend.Legend at 0x7f793811ef10>"
      ]
     },
     "execution_count": 9,
     "metadata": {},
     "output_type": "execute_result"
    },
    {
     "data": {
      "image/png": "[encoded data removed]",
      "text/plain": [
       "<Figure size 1500x500 with 2 Axes>"
      ]
     },
     "metadata": {},
     "output_type": "display_data"
    }
   ],
   "source": [
    "print(history.history.keys())\n",
    "\n",
    "mae = history.history['mae']\n",
    "val_mae = history.history['val_mae']\n",
    "loss = history.history['loss']\n",
    "val_loss = history.history['val_loss']\n",
    "\n",
    "epochs = range(1, len(loss) + 1)\n",
    "\n",
    "plt.figure(figsize=(15,5))\n",
    "plt.subplot(1,2,1)\n",
    "plt.plot(epochs, loss,  label='Training loss')\n",
    "plt.plot(epochs, val_loss,  label='Validation loss')\n",
    "plt.title('Training and validation loss')\n",
    "plt.legend()\n",
    "\n",
    "plt.subplot(1,2,2)\n",
    "plt.plot(epochs, mae,  label='Training MAE')\n",
    "plt.plot(epochs, val_mae,  label='Validation MAE')\n",
    "plt.title('Training and validation MAE')\n",
    "plt.legend()"
   ]
  },
  {
   "cell_type": "markdown",
   "metadata": {},
   "source": [
    "#### Train Data 결과 예측 비교"
   ]
  },
  {
   "cell_type": "code",
   "execution_count": 10,
   "metadata": {},
   "outputs": [
    {
     "name": "stdout",
     "output_type": "stream",
     "text": [
      "16/16 [==============================] - 0s 1ms/step\n"
     ]
    },
    {
     "data": {
      "text/plain": [
       "<matplotlib.legend.Legend at 0x7f7943da0cd0>"
      ]
     },
     "execution_count": 10,
     "metadata": {},
     "output_type": "execute_result"
    },
    {
     "data": {
      "image/png": "[encoded data removed]",
      "text/plain": [
       "<Figure size 640x480 with 1 Axes>"
      ]
     },
     "metadata": {},
     "output_type": "display_data"
    }
   ],
   "source": [
    "trainPredict = model.predict(X_train)\n",
    "\n",
    "plt.plot(y_train, label=\"train real\")\n",
    "plt.plot(trainPredict, label=\"train predicted\")\n",
    "plt.title('Train data prediction')\n",
    "plt.legend()"
   ]
  },
  {
   "cell_type": "markdown",
   "metadata": {},
   "source": [
    "#### Test Data 결과 예측 비교"
   ]
  },
  {
   "cell_type": "code",
   "execution_count": 11,
   "metadata": {},
   "outputs": [
    {
     "name": "stdout",
     "output_type": "stream",
     "text": [
      "7/7 [==============================] - 0s 1ms/step\n"
     ]
    },
    {
     "data": {
      "text/plain": [
       "Text(0.5, 1.0, 'Test data prediction')"
      ]
     },
     "execution_count": 11,
     "metadata": {},
     "output_type": "execute_result"
    },
    {
     "data": {
      "image/png": "[encoded data removed]",
      "text/plain": [
       "<Figure size 640x480 with 1 Axes>"
      ]
     },
     "metadata": {},
     "output_type": "display_data"
    }
   ],
   "source": [
    "testPredict = model.predict(X_test)\n",
    "\n",
    "plt.plot(y_test, label=\"test real\")\n",
    "plt.plot(testPredict, label=\"test predicted\")\n",
    "plt.legend()\n",
    "plt.title('Test data prediction')"
   ]
  },
  {
   "cell_type": "markdown",
   "metadata": {},
   "source": [
    "#### 평가"
   ]
  },
  {
   "cell_type": "code",
   "execution_count": 12,
   "metadata": {},
   "outputs": [
    {
     "name": "stdout",
     "output_type": "stream",
     "text": [
      "7/7 [==============================] - 0s 1ms/step - loss: 6.3638e-04 - mae: 0.0189\n"
     ]
    },
    {
     "data": {
      "text/plain": [
       "[0.0006363828433677554, 0.01885627768933773]"
      ]
     },
     "execution_count": 12,
     "metadata": {},
     "output_type": "execute_result"
    }
   ],
   "source": [
    "model.evaluate(X_test, y_test)"
   ]
  },
  {
   "cell_type": "code",
   "execution_count": 13,
   "metadata": {},
   "outputs": [
    {
     "name": "stdout",
     "output_type": "stream",
     "text": [
      "1/1 [==============================] - 0s 13ms/step\n",
      "[[0.72515833]] 0.7301802147545013\n"
     ]
    },
    {
     "data": {
      "text/plain": [
       "array([743.090027  , 741.36693053])"
      ]
     },
     "execution_count": 13,
     "metadata": {},
     "output_type": "execute_result"
    }
   ],
   "source": [
    "pred = model.predict(X_test[0:1])\n",
    "print(pred, y_test[0])\n",
    "\n",
    "# 역 스케일링\n",
    "scaled = np.zeros((2,5))\n",
    "scaled[0,-1] = y_test[0]\n",
    "scaled[1,-1] = pred\n",
    "scaler.inverse_transform(scaled)[:, -1]"
   ]
  },
  {
   "cell_type": "markdown",
   "metadata": {},
   "source": [
    "### Text 데이타 실습, One-hot Encoding\n"
   ]
  },
  {
   "cell_type": "markdown",
   "metadata": {},
   "source": [
    "#### 입출력 데이타 준비"
   ]
  },
  {
   "cell_type": "code",
   "execution_count": 14,
   "metadata": {
    "scrolled": true
   },
   "outputs": [
    {
     "name": "stdout",
     "output_type": "stream",
     "text": [
      "sentence:hihello\n",
      "char2idx:{'h': 0, 'e': 1, 'i': 2, 'o': 3, 'l': 4}, idx2char:{0: 'h', 1: 'e', 2: 'i', 3: 'o', 4: 'l'}\n",
      "x:hihell, y:ihello\n",
      "x_idx:[0, 2, 0, 1, 4, 4], y_idx:[2, 0, 1, 4, 4, 3]\n",
      "x_enc: [[[1. 0. 0. 0. 0.]\n",
      "  [0. 0. 1. 0. 0.]\n",
      "  [1. 0. 0. 0. 0.]\n",
      "  [0. 1. 0. 0. 0.]\n",
      "  [0. 0. 0. 0. 1.]\n",
      "  [0. 0. 0. 0. 1.]]] (1, 6, 5)\n",
      "y_enc: [[[0. 0. 1. 0. 0.]\n",
      "  [1. 0. 0. 0. 0.]\n",
      "  [0. 1. 0. 0. 0.]\n",
      "  [0. 0. 0. 0. 1.]\n",
      "  [0. 0. 0. 0. 1.]\n",
      "  [0. 0. 0. 1. 0.]]] (1, 6, 5)\n"
     ]
    }
   ],
   "source": [
    "import tensorflow as tf\n",
    "import numpy as np\n",
    "\n",
    "sentence = \"hihello\"\n",
    "\n",
    "voca = set(sentence) #unique charters\n",
    "char2idx = {c:i for i,c in enumerate(voca)}\n",
    "idx2char = {i:c for i, c in enumerate(voca)}\n",
    "print(f'sentence:{sentence}')\n",
    "print(f'char2idx:{char2idx}, idx2char:{idx2char}')\n",
    "\n",
    "x = sentence[:-1] #\"hihell\"\n",
    "y = sentence[1:] #\"ihello\"\n",
    "print(f'x:{x}, y:{y}')\n",
    "\n",
    "n_class = len(voca)  #example size\n",
    "n_time_steps = len(x) #input sequence\n",
    "hidden_size = n_class #output size\n",
    "\n",
    "''' convert char to integer '''\n",
    "x_idx = [char2idx[c] for c in x]\n",
    "y_idx = [char2idx[c] for c in y]\n",
    "print(f\"x_idx:{x_idx}, y_idx:{y_idx}\")\n",
    "\n",
    "''' one-hot encoding'''\n",
    "x_enc =tf.keras.utils.to_categorical(x_idx, num_classes=n_class)\n",
    "x_enc = np.expand_dims(x_enc, axis=0)\n",
    "\n",
    "y_enc = tf.keras.utils.to_categorical(y_idx, num_classes=n_class)\n",
    "y_enc = np.expand_dims(y_enc, axis=0)\n",
    "print(\"x_enc:\", x_enc, x_enc.shape, )\n",
    "print(\"y_enc:\", y_enc, y_enc.shape)"
   ]
  },
  {
   "cell_type": "markdown",
   "metadata": {},
   "source": [
    "#### LSTM을 이용한 모델 학습"
   ]
  },
  {
   "cell_type": "code",
   "execution_count": 15,
   "metadata": {},
   "outputs": [
    {
     "name": "stdout",
     "output_type": "stream",
     "text": [
      "Model: \"sequential_3\"\n",
      "_________________________________________________________________\n",
      " Layer (type)                Output Shape              Param #   \n",
      "=================================================================\n",
      " lstm_1 (LSTM)               (None, 6, 5)              220       \n",
      "                                                                 \n",
      " dense_3 (Dense)             (None, 6, 5)              30        \n",
      "                                                                 \n",
      " activation (Activation)     (None, 6, 5)              0         \n",
      "                                                                 \n",
      "=================================================================\n",
      "Total params: 250\n",
      "Trainable params: 250\n",
      "Non-trainable params: 0\n",
      "_________________________________________________________________\n",
      "1/1 [==============================] - 0s 203ms/step\n",
      "[[[8.2918704e-02 4.9110748e-02 8.3210576e-01 1.5711654e-02 2.0153053e-02]\n",
      "  [8.4873694e-01 5.0377619e-02 5.3903922e-02 1.5723256e-02 3.1258203e-02]\n",
      "  [2.3000810e-02 9.1400099e-01 4.8106957e-02 1.0703898e-04 1.4784191e-02]\n",
      "  [1.5493242e-02 1.7295940e-02 1.2727924e-02 6.8862922e-03 9.4759655e-01]\n",
      "  [7.5470204e-03 1.5362181e-03 7.2685834e-03 2.8943174e-02 9.5470500e-01]\n",
      "  [1.2137910e-02 8.4200212e-05 5.8214781e-03 9.3749386e-01 4.4462599e-02]]] [2 0 1 4 4 3]\n",
      "['i', 'h', 'e', 'l', 'l', 'o']\n"
     ]
    }
   ],
   "source": [
    "model = tf.keras.Sequential()\n",
    "model.add(tf.keras.layers.LSTM(hidden_size, input_shape=(n_time_steps, n_class), return_sequences=True))\n",
    "model.add(tf.keras.layers.Dense(hidden_size))\n",
    "model.add(tf.keras.layers.Activation('softmax'))\n",
    "model.summary()\n",
    "\n",
    "model.compile(optimizer='adam', loss='sparse_categorical_crossentropy')\n",
    "\n",
    "n_epochs = 1000\n",
    "history = model.fit(x_enc, np.reshape(y_idx, (1,6,1)), epochs=n_epochs, verbose=0)\n",
    "\n",
    "preds = model.predict(x_enc)\n",
    "print(preds, np.squeeze(np.argmax(preds, axis=2)))\n",
    "print([idx2char[i] for i in np.squeeze(np.argmax(preds, axis=2))])"
   ]
  },
  {
   "cell_type": "markdown",
   "metadata": {},
   "source": [
    "### Keras Embedding Layer 실습\n",
    "* 긍정/부정 어휘 분류"
   ]
  },
  {
   "cell_type": "code",
   "execution_count": 16,
   "metadata": {},
   "outputs": [
    {
     "name": "stdout",
     "output_type": "stream",
     "text": [
      "vocab_size : 15\n",
      "integer encoded: [[2, 3, 1, 4], [5, 6], [7, 8], [9, 10], [11, 12], [13], [14, 1]]\n",
      "max_len: 4\n",
      "padded : [[ 2  3  1  4]\n",
      " [ 5  6  0  0]\n",
      " [ 7  8  0  0]\n",
      " [ 9 10  0  0]\n",
      " [11 12  0  0]\n",
      " [13  0  0  0]\n",
      " [14  1  0  0]]\n",
      "embedding init : [[[-0.03573694 -0.03169855]\n",
      "  [-0.01025412  0.03373328]\n",
      "  [-0.0485622  -0.04575492]\n",
      "  [ 0.03325604 -0.0137823 ]]\n",
      "\n",
      " [[-0.04465365 -0.0398761 ]\n",
      "  [ 0.01318571  0.04565645]\n",
      "  [-0.04005826 -0.03061892]\n",
      "  [-0.04005826 -0.03061892]]\n",
      "\n",
      " [[-0.02029233  0.04182185]\n",
      "  [-0.02606738  0.01777536]\n",
      "  [-0.04005826 -0.03061892]\n",
      "  [-0.04005826 -0.03061892]]]\n",
      "Model: \"sequential_4\"\n",
      "_________________________________________________________________\n",
      " Layer (type)                Output Shape              Param #   \n",
      "=================================================================\n",
      " embedding (Embedding)       (None, 4, 2)              30        \n",
      "                                                                 \n",
      " flatten (Flatten)           (None, 8)                 0         \n",
      "                                                                 \n",
      " dense_4 (Dense)             (None, 1)                 9         \n",
      "                                                                 \n",
      "=================================================================\n",
      "Total params: 39\n",
      "Trainable params: 39\n",
      "Non-trainable params: 0\n",
      "_________________________________________________________________\n",
      "embedding last : [[[-0.38171148  0.32748362]\n",
      "  [-0.3923762   0.3754683 ]\n",
      "  [-0.53081644  0.42412317]\n",
      "  [-0.2994502  -0.45061293]]\n",
      "\n",
      " [[ 0.38435486 -0.48375124]\n",
      "  [ 0.4822771  -0.37864175]\n",
      "  [ 0.36266038 -0.4684391 ]\n",
      "  [ 0.36266038 -0.4684391 ]]\n",
      "\n",
      " [[ 0.4119728  -0.40533656]\n",
      "  [ 0.44632915 -0.40977237]\n",
      "  [ 0.36266038 -0.4684391 ]\n",
      "  [ 0.36266038 -0.4684391 ]]]\n"
     ]
    }
   ],
   "source": [
    "import tensorflow as tf\n",
    "\n",
    "corpus = ['very good nice quality', # corpus = 말뭉치\n",
    "             'stop lies',\n",
    "             'ugly terrible', \n",
    "             'excellent work', \n",
    "             'adorable lovely', \n",
    "             'bad',\n",
    "             'greate nice']\n",
    "\n",
    "y_train = [1, 0, 0, 1, 1, 0, 1] #1 :pos, 0 : neg\n",
    "\n",
    "t = tf.keras.preprocessing.text.Tokenizer()\n",
    "t.fit_on_texts(corpus)\n",
    "vocab_size = len(t.word_index) + 1\n",
    "\n",
    "print(f'vocab_size : {vocab_size}')\n",
    "\n",
    "X_encoded = t.texts_to_sequences(corpus)\n",
    "print(f'integer encoded: {X_encoded}')\n",
    "\n",
    "max_len=max(len(l) for l in X_encoded)\n",
    "print(f'max_len: {max_len}')\n",
    "\n",
    "X_train = tf.keras.preprocessing.sequence.pad_sequences(X_encoded, maxlen=max_len, padding='post')\n",
    "y_train=np.array(y_train)\n",
    "print(f'padded : {X_train}')\n",
    "\n",
    "embd = tf.keras.layers.Embedding(vocab_size, 2, input_length=max_len)\n",
    "print(f'embedding init : {embd(X_train)[:3]}')\n",
    "\n",
    "model = tf.keras.Sequential()\n",
    "model.add(embd) \n",
    "model.add(tf.keras.layers.Flatten()) # Dense의 입력으로 넣기위함.\n",
    "model.add(tf.keras.layers.Dense(1, activation='sigmoid'))\n",
    "model.summary()\n",
    "\n",
    "model.compile(optimizer='adam', loss='binary_crossentropy', metrics=['acc'])\n",
    "model.fit(X_train, y_train, epochs=500, verbose=0)\n",
    "\n",
    "print(f'embedding last : {embd(X_train)[:3]}')"
   ]
  },
  {
   "cell_type": "markdown",
   "metadata": {},
   "source": [
    "#### 벡터 시각화"
   ]
  },
  {
   "cell_type": "code",
   "execution_count": 17,
   "metadata": {},
   "outputs": [
    {
     "name": "stdout",
     "output_type": "stream",
     "text": [
      "[[ 0.36266038 -0.4684391 ]\n",
      " [-0.53081644  0.42412317]\n",
      " [-0.38171148  0.32748362]\n",
      " [-0.3923762   0.3754683 ]\n",
      " [-0.2994502  -0.45061293]\n",
      " [ 0.38435486 -0.48375124]\n",
      " [ 0.4822771  -0.37864175]\n",
      " [ 0.4119728  -0.40533656]\n",
      " [ 0.44632915 -0.40977237]\n",
      " [-0.41162154  0.4929658 ]\n",
      " [-0.52076334  0.44237325]\n",
      " [-0.45575634  0.44500288]\n",
      " [-0.49953902  0.40374178]\n",
      " [ 0.39250228 -0.4827028 ]\n",
      " [-0.4814194   0.443367  ]]\n"
     ]
    },
    {
     "data": {
      "image/png": "[encoded data removed]",
      "text/plain": [
       "<Figure size 1000x1000 with 1 Axes>"
      ]
     },
     "metadata": {},
     "output_type": "display_data"
    }
   ],
   "source": [
    "import matplotlib.pyplot as plt\n",
    "\n",
    "embd_matrix = embd.get_weights()[0]\n",
    "print(embd_matrix)\n",
    "plt.figure(figsize=(10,10))  \n",
    "for idx, (x1, x2) in enumerate(embd_matrix):\n",
    "    if idx == 0 : continue\n",
    "    plt.plot(x1, x2, 'b.')\n",
    "    plt.annotate(t.index_word[idx], (x1,x2 ))"
   ]
  },
  {
   "cell_type": "markdown",
   "metadata": {},
   "source": [
    "### Embeding Layer를 이용한 IMDB 텍스트 분류 실습\n"
   ]
  },
  {
   "cell_type": "markdown",
   "metadata": {},
   "source": [
    "#### 데이타 준비"
   ]
  },
  {
   "cell_type": "code",
   "execution_count": 18,
   "metadata": {},
   "outputs": [
    {
     "name": "stdout",
     "output_type": "stream",
     "text": [
      "train set : 25000, test set: (25000,), classes : 2\n"
     ]
    }
   ],
   "source": [
    "import tensorflow as tf\n",
    "\n",
    "imdb = tf.keras.datasets.imdb\n",
    "\n",
    "voca_size = 10000\n",
    "(X_train, y_train), (X_test, y_test) = imdb.load_data(num_words=voca_size)\n",
    "print(f'train set : {len(X_train)}, test set: {len(X_test), }, classes : {max(y_train)+1}')"
   ]
  },
  {
   "cell_type": "markdown",
   "metadata": {},
   "source": [
    "#### 단어-인덱스 사전 생성"
   ]
  },
  {
   "cell_type": "code",
   "execution_count": 19,
   "metadata": {},
   "outputs": [
    {
     "name": "stdout",
     "output_type": "stream",
     "text": [
      "the 1\n"
     ]
    }
   ],
   "source": [
    "imdb_word_index = imdb.get_word_index()\n",
    "imdb_index_word = { idx : key for key, idx in imdb_word_index.items()}\n",
    "\n",
    "print(imdb_index_word[1], imdb_word_index['the'])"
   ]
  },
  {
   "cell_type": "markdown",
   "metadata": {},
   "source": [
    "#### 데이타 미리보기"
   ]
  },
  {
   "cell_type": "code",
   "execution_count": 20,
   "metadata": {
    "scrolled": true
   },
   "outputs": [
    {
     "name": "stdout",
     "output_type": "stream",
     "text": [
      "[1, 14, 22, 16, 43, 530, 973, 1622, 1385, 65, 458, 4468, 66, 3941, 4, 173, 36, 256, 5, 25]\n"
     ]
    },
    {
     "data": {
      "text/plain": [
       "\"? this film was just brilliant casting location scenery story direction everyone's really suited the part they played and you\""
      ]
     },
     "execution_count": 20,
     "metadata": {},
     "output_type": "execute_result"
    }
   ],
   "source": [
    "print(X_train[0][:20])\n",
    "\n",
    "# 0:pad, 1:<start>, 2:UNK \n",
    "' '.join([imdb_index_word.get(i-3, '?') for i in X_train[0][:20]])"
   ]
  },
  {
   "cell_type": "markdown",
   "metadata": {},
   "source": [
    "#### 패딩"
   ]
  },
  {
   "cell_type": "code",
   "execution_count": 21,
   "metadata": {},
   "outputs": [],
   "source": [
    "#padding\n",
    "max_len = 500\n",
    "X_train = tf.keras.preprocessing.sequence.pad_sequences(X_train, maxlen=max_len)\n",
    "X_test = tf.keras.preprocessing.sequence.pad_sequences(X_test, maxlen=max_len)"
   ]
  },
  {
   "cell_type": "markdown",
   "metadata": {},
   "source": [
    "#### 모델 생성, 훈련, 평가"
   ]
  },
  {
   "cell_type": "code",
   "execution_count": 22,
   "metadata": {
    "scrolled": true
   },
   "outputs": [
    {
     "name": "stdout",
     "output_type": "stream",
     "text": [
      "Epoch 1/20\n",
      "391/391 [==============================] - 153s 388ms/step - loss: 0.4795 - acc: 0.7606 - val_loss: 0.3444 - val_acc: 0.8552\n",
      "Epoch 2/20\n",
      "391/391 [==============================] - 158s 404ms/step - loss: 0.2581 - acc: 0.8987 - val_loss: 0.3274 - val_acc: 0.8741\n",
      "Epoch 3/20\n",
      "391/391 [==============================] - 162s 414ms/step - loss: 0.1873 - acc: 0.9277 - val_loss: 0.3431 - val_acc: 0.8692\n",
      "Epoch 4/20\n",
      "391/391 [==============================] - 163s 418ms/step - loss: 0.1331 - acc: 0.9512 - val_loss: 0.3990 - val_acc: 0.8671\n",
      "Epoch 5/20\n",
      "391/391 [==============================] - 172s 440ms/step - loss: 0.1044 - acc: 0.9631 - val_loss: 0.4288 - val_acc: 0.8625\n",
      "Epoch 6/20\n",
      "391/391 [==============================] - 165s 422ms/step - loss: 0.0780 - acc: 0.9731 - val_loss: 0.4953 - val_acc: 0.8650\n",
      "Epoch 7/20\n",
      "391/391 [==============================] - 154s 395ms/step - loss: 0.0967 - acc: 0.9642 - val_loss: 0.4671 - val_acc: 0.8564\n",
      "Epoch 8/20\n",
      "391/391 [==============================] - 155s 397ms/step - loss: 0.0500 - acc: 0.9825 - val_loss: 0.5682 - val_acc: 0.8591\n",
      "Epoch 9/20\n",
      "391/391 [==============================] - 154s 394ms/step - loss: 0.0346 - acc: 0.9894 - val_loss: 0.6740 - val_acc: 0.8510\n",
      "Epoch 10/20\n",
      "391/391 [==============================] - 155s 397ms/step - loss: 0.0275 - acc: 0.9913 - val_loss: 0.7921 - val_acc: 0.8665\n",
      "Epoch 11/20\n",
      "391/391 [==============================] - 162s 414ms/step - loss: 0.0701 - acc: 0.9769 - val_loss: 0.5730 - val_acc: 0.8432\n",
      "Epoch 12/20\n",
      "391/391 [==============================] - 153s 392ms/step - loss: 0.0617 - acc: 0.9785 - val_loss: 0.5418 - val_acc: 0.8412\n",
      "Epoch 13/20\n",
      "391/391 [==============================] - 157s 402ms/step - loss: 0.0339 - acc: 0.9888 - val_loss: 0.8698 - val_acc: 0.8549\n",
      "Epoch 14/20\n",
      "391/391 [==============================] - 156s 399ms/step - loss: 0.0199 - acc: 0.9938 - val_loss: 0.8794 - val_acc: 0.8539\n",
      "Epoch 15/20\n",
      "391/391 [==============================] - 158s 404ms/step - loss: 0.0172 - acc: 0.9948 - val_loss: 0.7542 - val_acc: 0.8466\n",
      "Epoch 16/20\n",
      "391/391 [==============================] - 158s 406ms/step - loss: 0.0061 - acc: 0.9986 - val_loss: 0.9404 - val_acc: 0.8378\n",
      "Epoch 17/20\n",
      "391/391 [==============================] - 156s 398ms/step - loss: 0.0103 - acc: 0.9970 - val_loss: 0.9132 - val_acc: 0.8497\n",
      "Epoch 18/20\n",
      "391/391 [==============================] - 159s 408ms/step - loss: 0.0136 - acc: 0.9961 - val_loss: 0.7799 - val_acc: 0.8383\n",
      "Epoch 19/20\n",
      "391/391 [==============================] - 153s 391ms/step - loss: 0.0080 - acc: 0.9977 - val_loss: 0.8552 - val_acc: 0.8505\n",
      "Epoch 20/20\n",
      "391/391 [==============================] - 163s 418ms/step - loss: 0.0111 - acc: 0.9965 - val_loss: 0.8351 - val_acc: 0.8322\n",
      "782/782 [==============================] - 45s 58ms/step - loss: 0.8351 - acc: 0.8322\n",
      "cost :0.835136353969574, accuracy:83.22%\n"
     ]
    }
   ],
   "source": [
    "model = tf.keras.Sequential()\n",
    "model.add(tf.keras.layers.Embedding(voca_size, 250))\n",
    "model.add(tf.keras.layers.LSTM(120))\n",
    "model.add(tf.keras.layers.Dense(32, activation='relu'))\n",
    "model.add(tf.keras.layers.Dense(1, activation='sigmoid'))\n",
    "\n",
    "model.compile(loss='binary_crossentropy', optimizer='adam', metrics=['acc'])\n",
    "model.fit(X_train, y_train, validation_data=(X_test, y_test), epochs=20, batch_size=64)\n",
    "\n",
    "result = model.evaluate(X_test, y_test)\n",
    "print(f'cost :{result[0]}, accuracy:{result[1] * 100:.2f}%')"
   ]
  }
 ],
 "metadata": {
  "kernelspec": {
   "display_name": "Python 3 (ipykernel)",
   "language": "python",
   "name": "python3"
  },
  "language_info": {
   "codemirror_mode": {
    "name": "ipython",
    "version": 3
   },
   "file_extension": ".py",
   "mimetype": "text/x-python",
   "name": "python",
   "nbconvert_exporter": "python",
   "pygments_lexer": "ipython3",
   "version": "3.9.13"
  }
 },
 "nbformat": 4,
 "nbformat_minor": 2
}
